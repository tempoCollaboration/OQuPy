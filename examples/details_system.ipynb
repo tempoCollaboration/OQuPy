{
 "cells": [
  {
   "cell_type": "markdown",
   "metadata": {},
   "source": [
    "# Details on the system module"
   ]
  },
  {
   "cell_type": "markdown",
   "metadata": {},
   "source": [
    "**For a description on how to use the most important functionality, please checkout the tutorials and the API documentation.**\n",
    "\n",
    "The following example code shows how to use most of the functionality of the `tempo.system` module. This code is *suplementary* to the documentation and also includes functionality that is only relevant to the inner workings of the TimeEvolvingMPO package. Sections that show example code that is not part of the API is marked with three asterix `***`.\n",
    "\n",
    "**Contents:**\n",
    "\n",
    "* A: System class\n",
    "    * A1: liouvillian() ***\n",
    "* B: TimeDependentSystem class\n",
    "    * B1: liouvillian(t) ***"
   ]
  },
  {
   "cell_type": "code",
   "execution_count": 1,
   "metadata": {},
   "outputs": [],
   "source": [
    "import sys\n",
    "sys.path.insert(0,'..')\n",
    "\n",
    "import numpy as np\n",
    "\n",
    "import time_evolving_mpo as tempo"
   ]
  },
  {
   "cell_type": "markdown",
   "metadata": {},
   "source": [
    "## A: System class"
   ]
  },
  {
   "cell_type": "code",
   "execution_count": 2,
   "metadata": {},
   "outputs": [],
   "source": [
    "sys_A = tempo.System(tempo.operators.sigma(\"z\"),\n",
    "                     gammas=[0.2,0.1,0.05],\n",
    "                     lindblad_operators=[tempo.operators.sigma(\"x\"),\n",
    "                                         tempo.operators.sigma(\"y\"),\n",
    "                                         tempo.operators.sigma(\"z\")],\n",
    "                     name=\"QDot 3\",\n",
    "                     description=\"This is a description bla bla.\",\n",
    "                     description_dict={\"qdot_nr\":3}\n",
    "                    )"
   ]
  },
  {
   "cell_type": "code",
   "execution_count": 3,
   "metadata": {},
   "outputs": [
    {
     "name": "stdout",
     "output_type": "stream",
     "text": [
      "----------------------------------------------\n",
      "System object: QDot 3\n",
      " This is a description bla bla.\n",
      "\n"
     ]
    }
   ],
   "source": [
    "print(sys_A)"
   ]
  },
  {
   "cell_type": "code",
   "execution_count": 4,
   "metadata": {},
   "outputs": [
    {
     "data": {
      "text/plain": [
       "array([[ 1.+0.j,  0.+0.j],\n",
       "       [ 0.+0.j, -1.+0.j]])"
      ]
     },
     "execution_count": 4,
     "metadata": {},
     "output_type": "execute_result"
    }
   ],
   "source": [
    "sys_A.hamiltonian"
   ]
  },
  {
   "cell_type": "code",
   "execution_count": 5,
   "metadata": {},
   "outputs": [
    {
     "data": {
      "text/plain": [
       "[0.2, 0.1, 0.05]"
      ]
     },
     "execution_count": 5,
     "metadata": {},
     "output_type": "execute_result"
    }
   ],
   "source": [
    "sys_A.gammas"
   ]
  },
  {
   "cell_type": "code",
   "execution_count": 6,
   "metadata": {},
   "outputs": [
    {
     "data": {
      "text/plain": [
       "[array([[0.+0.j, 1.+0.j],\n",
       "        [1.+0.j, 0.+0.j]]),\n",
       " array([[ 0.+0.j, -0.-1.j],\n",
       "        [ 0.+1.j,  0.+0.j]]),\n",
       " array([[ 1.+0.j,  0.+0.j],\n",
       "        [ 0.+0.j, -1.+0.j]])]"
      ]
     },
     "execution_count": 6,
     "metadata": {},
     "output_type": "execute_result"
    }
   ],
   "source": [
    "sys_A.lindblad_operators"
   ]
  },
  {
   "cell_type": "markdown",
   "metadata": {},
   "source": [
    "### A1: liouvillian() ***"
   ]
  },
  {
   "cell_type": "code",
   "execution_count": 7,
   "metadata": {},
   "outputs": [
    {
     "data": {
      "text/plain": [
       "array([[-0.3+0.j,  0. +0.j,  0. +0.j,  0.3+0.j],\n",
       "       [ 0. +0.j, -0.4-2.j,  0.1+0.j,  0. +0.j],\n",
       "       [ 0. +0.j,  0.1+0.j, -0.4+2.j,  0. +0.j],\n",
       "       [ 0.3+0.j,  0. +0.j,  0. +0.j, -0.3+0.j]])"
      ]
     },
     "execution_count": 7,
     "metadata": {},
     "output_type": "execute_result"
    }
   ],
   "source": [
    "sys_A.liouvillian()"
   ]
  },
  {
   "cell_type": "markdown",
   "metadata": {},
   "source": [
    "## B: TimeDependentSystem class"
   ]
  },
  {
   "cell_type": "code",
   "execution_count": 8,
   "metadata": {},
   "outputs": [],
   "source": [
    "sys_B = tempo.TimeDependentSystem(\n",
    "            lambda t: t*tempo.operators.sigma(\"z\"),\n",
    "            gammas=[lambda t: t*0.3, lambda t: t*0.2, lambda t: t*0.1],\n",
    "            lindblad_operators=[lambda t: t*tempo.operators.sigma(\"x\"),\n",
    "                                lambda t: t*tempo.operators.sigma(\"y\"),\n",
    "                                lambda t: t*tempo.operators.sigma(\"z\")],\n",
    "            name=\"QDot 3\",\n",
    "            description=\"This is a description bla bla.\",\n",
    "            description_dict={\"qdot_nr\":3})"
   ]
  },
  {
   "cell_type": "code",
   "execution_count": 9,
   "metadata": {},
   "outputs": [
    {
     "name": "stdout",
     "output_type": "stream",
     "text": [
      "----------------------------------------------\n",
      "TimeDependentSystem object: QDot 3\n",
      " This is a description bla bla.\n",
      "\n"
     ]
    }
   ],
   "source": [
    "print(sys_B)"
   ]
  },
  {
   "cell_type": "code",
   "execution_count": 10,
   "metadata": {},
   "outputs": [
    {
     "data": {
      "text/plain": [
       "array([[ 3.+0.j,  0.+0.j],\n",
       "       [ 0.+0.j, -3.+0.j]])"
      ]
     },
     "execution_count": 10,
     "metadata": {},
     "output_type": "execute_result"
    }
   ],
   "source": [
    "sys_B.hamiltonian(3.0)"
   ]
  },
  {
   "cell_type": "code",
   "execution_count": 11,
   "metadata": {},
   "outputs": [
    {
     "data": {
      "text/plain": [
       "array(0.2)"
      ]
     },
     "execution_count": 11,
     "metadata": {},
     "output_type": "execute_result"
    }
   ],
   "source": [
    "sys_B.gammas[1](1.0)"
   ]
  },
  {
   "cell_type": "code",
   "execution_count": 12,
   "metadata": {},
   "outputs": [
    {
     "data": {
      "text/plain": [
       "array([[0.+0.j, 0.-1.j],\n",
       "       [0.+1.j, 0.+0.j]])"
      ]
     },
     "execution_count": 12,
     "metadata": {},
     "output_type": "execute_result"
    }
   ],
   "source": [
    "sys_B.lindblad_operators[1](1.0)"
   ]
  },
  {
   "cell_type": "markdown",
   "metadata": {},
   "source": [
    "### B1: liouvillian(t) ***"
   ]
  },
  {
   "cell_type": "code",
   "execution_count": 13,
   "metadata": {},
   "outputs": [
    {
     "data": {
      "text/plain": [
       "array([[-4. +0.j,  0. +0.j,  0. +0.j,  4. +0.j],\n",
       "       [ 0. +0.j, -5.6-4.j,  0.8+0.j,  0. +0.j],\n",
       "       [ 0. +0.j,  0.8+0.j, -5.6+4.j,  0. +0.j],\n",
       "       [ 4. +0.j,  0. +0.j,  0. +0.j, -4. +0.j]])"
      ]
     },
     "execution_count": 13,
     "metadata": {},
     "output_type": "execute_result"
    }
   ],
   "source": [
    "sys_B.liouvillian(2.0)"
   ]
  },
  {
   "cell_type": "code",
   "execution_count": null,
   "metadata": {},
   "outputs": [],
   "source": []
  }
 ],
 "metadata": {
  "kernelspec": {
   "display_name": "Python 3",
   "language": "python",
   "name": "python3"
  },
  "language_info": {
   "codemirror_mode": {
    "name": "ipython",
    "version": 3
   },
   "file_extension": ".py",
   "mimetype": "text/x-python",
   "name": "python",
   "nbconvert_exporter": "python",
   "pygments_lexer": "ipython3",
   "version": "3.6.12"
  }
 },
 "nbformat": 4,
 "nbformat_minor": 2
}
