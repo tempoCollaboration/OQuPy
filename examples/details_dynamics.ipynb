{
 "cells": [
  {
   "cell_type": "markdown",
   "metadata": {},
   "source": [
    "# Details on the system module"
   ]
  },
  {
   "cell_type": "markdown",
   "metadata": {},
   "source": [
    "**For a description on how to use the most important functionality, please checkout the tutorials and the API documentation.**\n",
    "\n",
    "The following example code shows how to use most of the functionality of the `tempo.dynamics` module. This code is *suplementary* to the documentation and also includes functionality that is only relevant to the inner workings of the TimeEvolvingMPO package. Sections that show example code that is not part of the API is marked with three asterix `***`.\n",
    "\n",
    "**Contents:**\n",
    "\n",
    "* A: Dynamics class\n",
    "    * A1: expectations()\n",
    "    * A2: export() and import_dynamics()\n"
   ]
  },
  {
   "cell_type": "code",
   "execution_count": 1,
   "metadata": {},
   "outputs": [],
   "source": [
    "import sys\n",
    "sys.path.insert(0,'..')\n",
    "\n",
    "import numpy as np\n",
    "import matplotlib.pyplot as plt\n",
    "\n",
    "import time_evolving_mpo as tempo"
   ]
  },
  {
   "cell_type": "markdown",
   "metadata": {},
   "source": [
    "## A: Dynamics class"
   ]
  },
  {
   "cell_type": "code",
   "execution_count": 2,
   "metadata": {},
   "outputs": [],
   "source": [
    "dyn_A = tempo.Dynamics(name=\"coherent spin dynamics A\")"
   ]
  },
  {
   "cell_type": "code",
   "execution_count": 3,
   "metadata": {},
   "outputs": [
    {
     "name": "stdout",
     "output_type": "stream",
     "text": [
      "----------------------------------------------\n",
      "Dynamics object: coherent spin dynamics A\n",
      " __no_description__\n",
      "  length        = 0 timesteps \n",
      "\n"
     ]
    }
   ],
   "source": [
    "print(dyn_A)"
   ]
  },
  {
   "cell_type": "code",
   "execution_count": 4,
   "metadata": {},
   "outputs": [],
   "source": [
    "dyn_A.add(0.1, 0.95* tempo.operators.spin_dm(\"up\") + 0.05* tempo.operators.spin_dm(\"x+\") )"
   ]
  },
  {
   "cell_type": "code",
   "execution_count": 5,
   "metadata": {},
   "outputs": [],
   "source": [
    "dyn_A.add(0.2, 0.8* tempo.operators.spin_dm(\"up\") + 0.2* tempo.operators.spin_dm(\"x+\") )"
   ]
  },
  {
   "cell_type": "code",
   "execution_count": 6,
   "metadata": {},
   "outputs": [],
   "source": [
    "dyn_A.add(0.3, 0.6* tempo.operators.spin_dm(\"up\") + 0.4* tempo.operators.spin_dm(\"x+\") )"
   ]
  },
  {
   "cell_type": "code",
   "execution_count": 7,
   "metadata": {},
   "outputs": [],
   "source": [
    "dyn_A.add(0.4, 0.2* tempo.operators.spin_dm(\"up\") + 0.8* tempo.operators.spin_dm(\"x+\") )"
   ]
  },
  {
   "cell_type": "code",
   "execution_count": 8,
   "metadata": {},
   "outputs": [
    {
     "name": "stdout",
     "output_type": "stream",
     "text": [
      "----------------------------------------------\n",
      "Dynamics object: coherent spin dynamics A\n",
      " __no_description__\n",
      "  length        = 4 timesteps \n",
      "  min time      = 0.1 \n",
      "  max time      = 0.4 \n",
      "\n"
     ]
    }
   ],
   "source": [
    "print(dyn_A)"
   ]
  },
  {
   "cell_type": "code",
   "execution_count": 9,
   "metadata": {},
   "outputs": [
    {
     "data": {
      "text/plain": [
       "4"
      ]
     },
     "execution_count": 9,
     "metadata": {},
     "output_type": "execute_result"
    }
   ],
   "source": [
    "len(dyn_A)"
   ]
  },
  {
   "cell_type": "code",
   "execution_count": 10,
   "metadata": {
    "scrolled": true
   },
   "outputs": [
    {
     "data": {
      "text/plain": [
       "array([[[0.975+0.j, 0.025+0.j],\n",
       "        [0.025+0.j, 0.025+0.j]],\n",
       "\n",
       "       [[0.9  +0.j, 0.1  +0.j],\n",
       "        [0.1  +0.j, 0.1  +0.j]],\n",
       "\n",
       "       [[0.8  +0.j, 0.2  +0.j],\n",
       "        [0.2  +0.j, 0.2  +0.j]],\n",
       "\n",
       "       [[0.6  +0.j, 0.4  +0.j],\n",
       "        [0.4  +0.j, 0.4  +0.j]]])"
      ]
     },
     "execution_count": 10,
     "metadata": {},
     "output_type": "execute_result"
    }
   ],
   "source": [
    "dyn_A.states"
   ]
  },
  {
   "cell_type": "code",
   "execution_count": 11,
   "metadata": {},
   "outputs": [
    {
     "data": {
      "text/plain": [
       "array([0.1, 0.2, 0.3, 0.4])"
      ]
     },
     "execution_count": 11,
     "metadata": {},
     "output_type": "execute_result"
    }
   ],
   "source": [
    "dyn_A.times"
   ]
  },
  {
   "cell_type": "code",
   "execution_count": 12,
   "metadata": {},
   "outputs": [],
   "source": [
    "dyn_A.add(0.0, 1.0* tempo.operators.spin_dm(\"up\") + 0.0* tempo.operators.spin_dm(\"z+\") )"
   ]
  },
  {
   "cell_type": "code",
   "execution_count": 13,
   "metadata": {},
   "outputs": [
    {
     "data": {
      "text/plain": [
       "array([0. , 0.1, 0.2, 0.3, 0.4])"
      ]
     },
     "execution_count": 13,
     "metadata": {},
     "output_type": "execute_result"
    }
   ],
   "source": [
    "dyn_A.times"
   ]
  },
  {
   "cell_type": "code",
   "execution_count": 14,
   "metadata": {},
   "outputs": [],
   "source": [
    "dyn_A.add(0.15, 0.9* tempo.operators.spin_dm(\"up\") + 0.1* tempo.operators.spin_dm(\"z+\") )"
   ]
  },
  {
   "cell_type": "code",
   "execution_count": 15,
   "metadata": {},
   "outputs": [
    {
     "data": {
      "text/plain": [
       "array([0.  , 0.1 , 0.15, 0.2 , 0.3 , 0.4 ])"
      ]
     },
     "execution_count": 15,
     "metadata": {},
     "output_type": "execute_result"
    }
   ],
   "source": [
    "dyn_A.times"
   ]
  },
  {
   "cell_type": "markdown",
   "metadata": {},
   "source": [
    "### A1: expectations()"
   ]
  },
  {
   "cell_type": "code",
   "execution_count": 16,
   "metadata": {},
   "outputs": [],
   "source": [
    "t, z = dyn_A.expectations(tempo.operators.sigma(\"z\"), real=True)"
   ]
  },
  {
   "cell_type": "code",
   "execution_count": 17,
   "metadata": {},
   "outputs": [
    {
     "name": "stdout",
     "output_type": "stream",
     "text": [
      "[0.   0.1  0.15 0.2  0.3  0.4 ] [1.   0.95 1.   0.8  0.6  0.2 ]\n"
     ]
    }
   ],
   "source": [
    "print(t, z)"
   ]
  },
  {
   "cell_type": "code",
   "execution_count": 18,
   "metadata": {},
   "outputs": [
    {
     "data": {
      "text/plain": [
       "<matplotlib.legend.Legend at 0x7f27513b15c0>"
      ]
     },
     "execution_count": 18,
     "metadata": {},
     "output_type": "execute_result"
    },
    {
     "data": {
      "image/png": "[encoded data removed]",
      "text/plain": [
       "<Figure size 432x288 with 1 Axes>"
      ]
     },
     "metadata": {
      "needs_background": "light"
     },
     "output_type": "display_data"
    }
   ],
   "source": [
    "plt.plot(*dyn_A.expectations(real=True), label=r\"$trace$\")\n",
    "plt.plot(*dyn_A.expectations(tempo.operators.sigma(\"x\"), real=True), label=r\"$<\\sigma_x>$\")\n",
    "plt.plot(*dyn_A.expectations(tempo.operators.sigma(\"y\"), real=True), label=r\"$<\\sigma_y>$\")\n",
    "plt.plot(*dyn_A.expectations(tempo.operators.sigma(\"z\"), real=True), label=r\"$<\\sigma_z>$\")\n",
    "plt.legend()"
   ]
  },
  {
   "cell_type": "markdown",
   "metadata": {},
   "source": [
    "### A2: export() and import_dynamics()"
   ]
  },
  {
   "cell_type": "code",
   "execution_count": 19,
   "metadata": {},
   "outputs": [],
   "source": [
    "dyn_A.export(\"details_dynamics.tempoDynamics\", overwrite=True)"
   ]
  },
  {
   "cell_type": "code",
   "execution_count": 20,
   "metadata": {},
   "outputs": [],
   "source": [
    "dyn_A2 = tempo.import_dynamics(\"details_dynamics.tempoDynamics\")"
   ]
  },
  {
   "cell_type": "code",
   "execution_count": 21,
   "metadata": {},
   "outputs": [
    {
     "name": "stdout",
     "output_type": "stream",
     "text": [
      "----------------------------------------------\n",
      "Dynamics object: coherent spin dynamics A\n",
      " __no_description__\n",
      "  length        = 6 timesteps \n",
      "  min time      = 0.0 \n",
      "  max time      = 0.4 \n",
      "\n"
     ]
    }
   ],
   "source": [
    "print(dyn_A2)"
   ]
  },
  {
   "cell_type": "code",
   "execution_count": 22,
   "metadata": {},
   "outputs": [
    {
     "data": {
      "text/plain": [
       "<matplotlib.legend.Legend at 0x7f2751249c50>"
      ]
     },
     "execution_count": 22,
     "metadata": {},
     "output_type": "execute_result"
    },
    {
     "data": {
      "image/png": "[encoded data removed]",
      "text/plain": [
       "<Figure size 432x288 with 1 Axes>"
      ]
     },
     "metadata": {
      "needs_background": "light"
     },
     "output_type": "display_data"
    }
   ],
   "source": [
    "plt.plot(*dyn_A2.expectations(real=True), label=r\"$trace$\")\n",
    "plt.plot(*dyn_A2.expectations(tempo.operators.sigma(\"x\"), real=True), label=r\"$<\\sigma_x>$\")\n",
    "plt.plot(*dyn_A2.expectations(tempo.operators.sigma(\"y\"), real=True), label=r\"$<\\sigma_y>$\")\n",
    "plt.plot(*dyn_A2.expectations(tempo.operators.sigma(\"z\"), real=True), label=r\"$<\\sigma_z>$\")\n",
    "plt.legend()"
   ]
  },
  {
   "cell_type": "code",
   "execution_count": null,
   "metadata": {},
   "outputs": [],
   "source": []
  }
 ],
 "metadata": {
  "kernelspec": {
   "display_name": "Python 3",
   "language": "python",
   "name": "python3"
  },
  "language_info": {
   "codemirror_mode": {
    "name": "ipython",
    "version": 3
   },
   "file_extension": ".py",
   "mimetype": "text/x-python",
   "name": "python",
   "nbconvert_exporter": "python",
   "pygments_lexer": "ipython3",
   "version": "3.6.12"
  }
 },
 "nbformat": 4,
 "nbformat_minor": 2
}
