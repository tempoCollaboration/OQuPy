{
 "cells": [
  {
   "cell_type": "markdown",
   "metadata": {},
   "source": [
    "# Example code for backend module tensor_network.node_array\n",
    "\n",
    "**This example code is only of interest to oqupy developers as it concerns the inner working of the backend.**"
   ]
  },
  {
   "cell_type": "code",
   "execution_count": 1,
   "metadata": {},
   "outputs": [],
   "source": [
    "import sys\n",
    "sys.path.insert(0,'../..')\n",
    "\n",
    "import numpy as np\n",
    "import tensornetwork as tn\n",
    "import oqupy.backends.tensor_network.node_array as node_array"
   ]
  },
  {
   "cell_type": "code",
   "execution_count": 2,
   "metadata": {},
   "outputs": [
    {
     "data": {
      "text/plain": [
       "'0.3.0'"
      ]
     },
     "execution_count": 2,
     "metadata": {},
     "output_type": "execute_result"
    }
   ],
   "source": [
    "tn.__version__"
   ]
  },
  {
   "cell_type": "markdown",
   "metadata": {},
   "source": [
    "## Create"
   ]
  },
  {
   "cell_type": "code",
   "execution_count": 3,
   "metadata": {},
   "outputs": [],
   "source": [
    "np.random.seed(0)\n",
    "a = np.random.rand(3,4,9,5)\n",
    "b = np.random.rand(5,5,9,6)\n",
    "c = np.random.rand(6,5,9,2)\n",
    "d = np.random.rand(2,3,9)"
   ]
  },
  {
   "cell_type": "code",
   "execution_count": 4,
   "metadata": {},
   "outputs": [
    {
     "name": "stdout",
     "output_type": "stream",
     "text": [
      "my node array:\n",
      "  ~~[3, 4, 9, 5]~~~~[5, 5, 9, 6]~~~~[6, 5, 9, 2]~~~~[2, 3, 9]  \n"
     ]
    }
   ],
   "source": [
    "na = node_array.NodeArray([a,b,c,d], right=False, name=\"my node array\")\n",
    "print(na)"
   ]
  },
  {
   "cell_type": "code",
   "execution_count": 5,
   "metadata": {},
   "outputs": [
    {
     "name": "stdout",
     "output_type": "stream",
     "text": [
      "[5, 6, 2]\n",
      "2\n"
     ]
    }
   ],
   "source": [
    "print(na.bond_dimensions)\n",
    "print(na.rank)"
   ]
  },
  {
   "cell_type": "markdown",
   "metadata": {},
   "source": [
    "In this context the `rank` of a NodeArray is the number of danglig 'physical' legs per node. For example, the `rank` of an MPS is 1, the `rank` of an MPO is 2, and so on. Also, an NodeArray can have or not have left and right dangling legs."
   ]
  },
  {
   "cell_type": "code",
   "execution_count": 6,
   "metadata": {},
   "outputs": [
    {
     "name": "stdout",
     "output_type": "stream",
     "text": [
      "D1:\n",
      "    [2, 3, 9]  \n",
      "    rank = 3\n",
      "\n",
      "D2:\n",
      "    [2, 3, 9]~~\n",
      "    rank = 2\n",
      "\n",
      "D3:\n",
      "  ~~[2, 3, 9]  \n",
      "    rank = 2\n",
      "\n",
      "D4:\n",
      "  ~~[2, 3, 9]~~\n",
      "    rank = 1\n",
      "\n"
     ]
    }
   ],
   "source": [
    "dd = node_array.NodeArray([d], name=\"D1\", left=False, right=False)\n",
    "print(dd)\n",
    "print(f\"    rank = {dd.rank}\\n\")\n",
    "\n",
    "dd = node_array.NodeArray([d], name=\"D2\", left=False, right=True)\n",
    "print(dd)\n",
    "print(f\"    rank = {dd.rank}\\n\")\n",
    "\n",
    "dd = node_array.NodeArray([d], name=\"D3\", left=True, right=False)\n",
    "print(dd)\n",
    "print(f\"    rank = {dd.rank}\\n\")\n",
    "\n",
    "dd = node_array.NodeArray([d], name=\"D4\", left=True, right=True)\n",
    "print(dd)\n",
    "print(f\"    rank = {dd.rank}\\n\")"
   ]
  },
  {
   "cell_type": "markdown",
   "metadata": {},
   "source": [
    "## Apply matrix (left/right)"
   ]
  },
  {
   "cell_type": "code",
   "execution_count": 7,
   "metadata": {},
   "outputs": [
    {
     "name": "stdout",
     "output_type": "stream",
     "text": [
      "my node array:\n",
      "  ~~[3, 4, 9, 5]~~~~[5, 5, 9, 6]~~~~[6, 5, 9, 2]~~~~[2, 3, 9]  \n",
      "my node array:\n",
      "  ~~[7, 4, 9, 5]~~~~[5, 5, 9, 6]~~~~[6, 5, 9, 2]~~~~[2, 3, 9]  \n"
     ]
    }
   ],
   "source": [
    "m = np.random.rand(3,7)\n",
    "print(na)\n",
    "na.apply_matrix(m,left=True)\n",
    "print(na)"
   ]
  },
  {
   "cell_type": "markdown",
   "metadata": {},
   "source": [
    "## Apply vector (left/right)"
   ]
  },
  {
   "cell_type": "code",
   "execution_count": 8,
   "metadata": {},
   "outputs": [
    {
     "name": "stdout",
     "output_type": "stream",
     "text": [
      "my node array:\n",
      "  ~~[7, 4, 9, 5]~~~~[5, 5, 9, 6]~~~~[6, 5, 9, 2]~~~~[2, 3, 9]  \n",
      "my node array:\n",
      "    [4, 9, 5]~~~~[5, 5, 9, 6]~~~~[6, 5, 9, 2]~~~~[2, 3, 9]  \n"
     ]
    }
   ],
   "source": [
    "v = np.random.rand(7)\n",
    "print(na)\n",
    "na.apply_vector(v, left=True)\n",
    "print(na)"
   ]
  },
  {
   "cell_type": "markdown",
   "metadata": {},
   "source": [
    "## Join"
   ]
  },
  {
   "cell_type": "code",
   "execution_count": 9,
   "metadata": {},
   "outputs": [
    {
     "name": "stdout",
     "output_type": "stream",
     "text": [
      "array 0:\n",
      "    [2, 9, 3]~~\n",
      "array 1:\n",
      "  ~~[3, 4, 9, 5]~~~~[5, 5, 9, 6]~~\n",
      "array 2:\n",
      "  ~~[6, 5, 9, 2]~~~~[2, 3, 9]  \n"
     ]
    }
   ],
   "source": [
    "x = np.random.rand(2,9,3)\n",
    "na0 = node_array.NodeArray([x], left=False, name=\"array 0\")\n",
    "na1 = node_array.NodeArray([a,b], name=\"array 1\")\n",
    "na2 = node_array.NodeArray([c,d], right=False, name=\"array 2\")\n",
    "print(na0)\n",
    "print(na1)\n",
    "print(na2)"
   ]
  },
  {
   "cell_type": "code",
   "execution_count": 10,
   "metadata": {},
   "outputs": [
    {
     "name": "stdout",
     "output_type": "stream",
     "text": [
      "__unnamed__:\n",
      "  ~~[3, 4, 9, 5]~~~~[5, 5, 9, 6]~~~~[6, 5, 9, 2]~~~~[2, 3, 9]  \n"
     ]
    }
   ],
   "source": [
    "na_12 = node_array.join(na1,na2)\n",
    "print(na_12)"
   ]
  },
  {
   "cell_type": "code",
   "execution_count": 11,
   "metadata": {},
   "outputs": [
    {
     "name": "stdout",
     "output_type": "stream",
     "text": [
      "__unnamed__:\n",
      "    [2, 9, 3]~~~~[3, 4, 9, 5]~~~~[5, 5, 9, 6]~~~~[6, 5, 9, 2]~~~~[2, 3, 9]  \n"
     ]
    }
   ],
   "source": [
    "na_012 = node_array.join(na0, na_12)\n",
    "print(na_012)"
   ]
  },
  {
   "cell_type": "markdown",
   "metadata": {},
   "source": [
    "## Split"
   ]
  },
  {
   "cell_type": "code",
   "execution_count": 12,
   "metadata": {},
   "outputs": [],
   "source": [
    "na_A, na_B = node_array.split(na_012, -1)"
   ]
  },
  {
   "cell_type": "code",
   "execution_count": 13,
   "metadata": {},
   "outputs": [
    {
     "name": "stdout",
     "output_type": "stream",
     "text": [
      "__unnamed__:\n",
      "    [2, 9, 3]~~~~[3, 4, 9, 5]~~~~[5, 5, 9, 6]~~~~[6, 5, 9, 2]~~\n",
      " rank = 2\n",
      " len = 4\n",
      " bond_dimensions = [3, 5, 6]\n",
      " left = False\n",
      " right = True\n",
      "\n",
      "__unnamed__:\n",
      "  ~~[2, 3, 9]  \n",
      " rank = 2\n",
      " len = 1\n",
      " bond_dimensions = []\n",
      " left = True\n",
      " right = False\n",
      "\n"
     ]
    }
   ],
   "source": [
    "print(na_A.get_verbose_string())\n",
    "print(na_B.get_verbose_string())"
   ]
  },
  {
   "cell_type": "markdown",
   "metadata": {},
   "source": [
    "## SVD sweep"
   ]
  },
  {
   "cell_type": "code",
   "execution_count": 14,
   "metadata": {},
   "outputs": [
    {
     "name": "stdout",
     "output_type": "stream",
     "text": [
      "__unnamed__:\n",
      "    [2, 9, 3]~~~~[3, 4, 9, 5]~~~~[5, 5, 9, 6]~~~~[6, 5, 9, 2]~~~~[2, 3, 9]  \n"
     ]
    }
   ],
   "source": [
    "print(na_012)"
   ]
  },
  {
   "cell_type": "code",
   "execution_count": 15,
   "metadata": {},
   "outputs": [
    {
     "name": "stdout",
     "output_type": "stream",
     "text": [
      "__unnamed__:\n",
      "    [2, 9, 3]~~~~[3, 4, 9, 4]~~~~[4, 5, 9, 4]~~~~[4, 5, 9, 2]~~~~[2, 3, 9]  \n"
     ]
    }
   ],
   "source": [
    "na_012.svd_sweep(1, 3, max_singular_values=4)\n",
    "print(na_012)"
   ]
  },
  {
   "cell_type": "code",
   "execution_count": 16,
   "metadata": {},
   "outputs": [
    {
     "name": "stdout",
     "output_type": "stream",
     "text": [
      "__unnamed__:\n",
      "    [2, 9, 1]~~~~[1, 4, 9, 1]~~~~[1, 5, 9, 1]~~~~[1, 5, 9, 1]~~~~[1, 3, 9]  \n",
      "Singular values:\n",
      "  [keep / discard]: [3.99430628] / [1.49866144]\n",
      "  [keep / discard]: [10599.90104242] / [267.0975746  201.42531644 171.11795386]\n",
      "  [keep / discard]: [10587.82415649] / [339.6380433  304.27467941 218.9626894 ]\n",
      "  [keep / discard]: [10310.27450257] / [1745.62805973 1659.22955843]\n"
     ]
    }
   ],
   "source": [
    "singular_values = na_012.svd_sweep(-1, 0, max_singular_values=1)\n",
    "print(na_012)\n",
    "print(\"Singular values:\")\n",
    "for keep, discard in singular_values:\n",
    "    print(f\"  [keep / discard]: {keep} / {discard}\")"
   ]
  },
  {
   "cell_type": "markdown",
   "metadata": {},
   "source": [
    "## Zip-up contract"
   ]
  },
  {
   "cell_type": "markdown",
   "metadata": {},
   "source": [
    "### 1st example"
   ]
  },
  {
   "cell_type": "code",
   "execution_count": 17,
   "metadata": {},
   "outputs": [
    {
     "name": "stdout",
     "output_type": "stream",
     "text": [
      "MPS:\n",
      "  ~~[3, 2, 3]~~~~[3, 3, 3]~~~~[3, 4, 3]~~\n",
      "    rank:1\n",
      "MPO1:\n",
      "    [2, 5, 4]~~~~[4, 3, 5, 4]~~~~[4, 4, 5]  \n",
      "    rank:2\n",
      "MPO2:\n",
      "    [5, 5, 3]~~~~[3, 5, 5, 3]~~~~[3, 5, 5]  \n",
      "    rank:2\n"
     ]
    }
   ],
   "source": [
    "mps = node_array.NodeArray([np.random.rand(3,2,3),\n",
    "                            np.random.rand(3,3,3),\n",
    "                            np.random.rand(3,4,3)],\n",
    "                           name=\"MPS\")\n",
    "print(mps)\n",
    "print(f\"    rank:{mps.rank}\")\n",
    "\n",
    "mpo1 = node_array.NodeArray([np.random.rand(2,5,4),\n",
    "                             np.random.rand(4,3,5,4),\n",
    "                             np.random.rand(4,4,5)], \n",
    "                            left=False, \n",
    "                            right=False, \n",
    "                            name=\"MPO1\")\n",
    "print(mpo1)\n",
    "print(f\"    rank:{mpo1.rank}\")\n",
    "\n",
    "mpo2 = node_array.NodeArray([np.random.rand(5,5,3),\n",
    "                             np.random.rand(3,5,5,3),\n",
    "                             np.random.rand(3,5,5)], \n",
    "                            left=False, \n",
    "                            right=False, \n",
    "                            name=\"MPO2\")\n",
    "print(mpo2)\n",
    "print(f\"    rank:{mpo2.rank}\")\n"
   ]
  },
  {
   "cell_type": "code",
   "execution_count": 18,
   "metadata": {},
   "outputs": [
    {
     "name": "stdout",
     "output_type": "stream",
     "text": [
      "MPS:\n",
      "  ~~[3, 5, 10]~~~~[10, 5, 10]~~~~[10, 5, 3]~~\n"
     ]
    }
   ],
   "source": [
    "mps.zip_up(mpo1, [(0, 0)], left_index=0, right_index=-1, max_singular_values=10)\n",
    "print(mps)"
   ]
  },
  {
   "cell_type": "code",
   "execution_count": 19,
   "metadata": {},
   "outputs": [
    {
     "name": "stdout",
     "output_type": "stream",
     "text": [
      "MPS:\n",
      "  ~~[3, 5, 11]~~~~[11, 5, 11]~~~~[11, 5, 3]~~\n"
     ]
    }
   ],
   "source": [
    "mps.zip_up(mpo2, [(0, 0)], left_index=0, max_singular_values=11)\n",
    "print(mps)"
   ]
  },
  {
   "cell_type": "code",
   "execution_count": 20,
   "metadata": {},
   "outputs": [
    {
     "name": "stdout",
     "output_type": "stream",
     "text": [
      "MPS:\n",
      "  ~~[3, 5, 2]~~~~[2, 5, 2]~~~~[2, 5, 3]~~\n"
     ]
    }
   ],
   "source": [
    "mps.svd_sweep(-1,0,max_singular_values=2);\n",
    "print(mps)"
   ]
  },
  {
   "cell_type": "markdown",
   "metadata": {},
   "source": [
    "### 2nd example"
   ]
  },
  {
   "cell_type": "code",
   "execution_count": 21,
   "metadata": {},
   "outputs": [
    {
     "name": "stdout",
     "output_type": "stream",
     "text": [
      "MPS:\n",
      "    [4, 3]~~~~[3, 4, 3]~~~~[3, 4]  \n",
      "    rank:1\n",
      "MPS:\n",
      "  ~~[3, 4, 3]~~~~[3, 4]  \n",
      "    rank:1\n",
      "MPO1:\n",
      "  ~~[3, 4, 4, 3]~~~~[3, 4, 4]  \n",
      "    rank:2\n",
      "MPO2:\n",
      "    [4, 4, 3]~~~~[3, 4, 4, 3]~~\n",
      "    rank:2\n",
      "array1:\n",
      "    [4, 2, 2, 3]~~~~[3, 4, 2, 2, 3]~~~~[3, 4, 2, 2, 3]~~\n",
      "    rank:3\n",
      "array2:\n",
      "  ~~[3, 2, 4, 2, 3]~~~~[3, 2, 4, 2, 3]~~~~[3, 2, 4, 2]  \n",
      "    rank:3\n"
     ]
    }
   ],
   "source": [
    "mps = node_array.NodeArray([np.random.rand(4,3),\n",
    "                            np.random.rand(3,4,3),\n",
    "                            np.random.rand(3,4)],\n",
    "                           left=False,\n",
    "                           right=False,\n",
    "                           name=\"MPS\")\n",
    "mps1 = mps.copy()\n",
    "mps2 = mps.copy()\n",
    "mps3 = mps.copy()\n",
    "mps4 = mps.copy()\n",
    "mps5 = mps.copy()\n",
    "mpsL = node_array.NodeArray([np.random.rand(3,4,3),\n",
    "                             np.random.rand(3,4)],\n",
    "                            left=True,\n",
    "                            right=False,\n",
    "                            name=\"MPS\")\n",
    "print(mps)\n",
    "print(f\"    rank:{mps.rank}\")\n",
    "print(mpsL)\n",
    "print(f\"    rank:{mpsL.rank}\")\n",
    "\n",
    "mpo1 = node_array.NodeArray([np.random.rand(3,4,4,3),\n",
    "                             np.random.rand(3,4,4)], \n",
    "                            left=True, \n",
    "                            right=False, \n",
    "                            name=\"MPO1\")\n",
    "mpo5 = mpo1.copy()\n",
    "print(mpo1)\n",
    "print(f\"    rank:{mpo1.rank}\")\n",
    "\n",
    "mpo2 = node_array.NodeArray([np.random.rand(4,4,3),\n",
    "                             np.random.rand(3,4,4,3)], \n",
    "                            left=False, \n",
    "                            right=True, \n",
    "                            name=\"MPO2\")\n",
    "print(mpo2)\n",
    "print(f\"    rank:{mpo2.rank}\")\n",
    "\n",
    "arr1 = node_array.NodeArray([np.random.rand(4,2,2,3),\n",
    "                             np.random.rand(3,4,2,2,3),\n",
    "                             np.random.rand(3,4,2,2,3)], \n",
    "                            left=False, \n",
    "                            right=True, \n",
    "                            name=\"array1\")\n",
    "print(arr1)\n",
    "print(f\"    rank:{arr1.rank}\")\n",
    "\n",
    "arr2 = node_array.NodeArray([np.random.rand(3,2,4,2,3),\n",
    "                             np.random.rand(3,2,4,2,3),\n",
    "                             np.random.rand(3,2,4,2)], \n",
    "                            left=True, \n",
    "                            right=False, \n",
    "                            name=\"array2\")\n",
    "print(arr2)\n",
    "print(f\"    rank:{arr2.rank}\")"
   ]
  },
  {
   "cell_type": "code",
   "execution_count": 22,
   "metadata": {},
   "outputs": [
    {
     "name": "stdout",
     "output_type": "stream",
     "text": [
      "MPS:\n",
      "  ~~[3, 4, 9]~~~~[9, 4, 3]~~~~[3, 4]  \n"
     ]
    }
   ],
   "source": [
    "mps1.zip_up(mpo1, [(0, 0)], left_index=0, direction=\"left\")\n",
    "print(mps1)"
   ]
  },
  {
   "cell_type": "code",
   "execution_count": 23,
   "metadata": {},
   "outputs": [
    {
     "name": "stdout",
     "output_type": "stream",
     "text": [
      "MPS:\n",
      "    [4, 3]~~~~[3, 4, 9]~~~~[9, 4, 3]~~\n"
     ]
    }
   ],
   "source": [
    "mps2.zip_up(mpo2, [(0, 0)], left_index=1, right_index=2, direction=\"left\")\n",
    "print(mps2)"
   ]
  },
  {
   "cell_type": "code",
   "execution_count": 24,
   "metadata": {},
   "outputs": [
    {
     "name": "stdout",
     "output_type": "stream",
     "text": [
      "MPS:\n",
      "    [2, 2, 4]~~~~[4, 2, 2, 9]~~~~[9, 2, 2, 3]~~\n"
     ]
    }
   ],
   "source": [
    "mps3.zip_up(arr1, [(0, 0)])\n",
    "print(mps3)"
   ]
  },
  {
   "cell_type": "code",
   "execution_count": 25,
   "metadata": {},
   "outputs": [
    {
     "name": "stdout",
     "output_type": "stream",
     "text": [
      "MPS:\n",
      "  ~~[3, 4, 7]~~~~[7, 4, 7]~~~~[7, 4, 3]~~\n"
     ]
    }
   ],
   "source": [
    "mps3.zip_up(arr2, [(0, 0),(1, 2)], right_index=-1, direction=\"left\", max_singular_values=7)\n",
    "print(mps3)"
   ]
  },
  {
   "cell_type": "code",
   "execution_count": 26,
   "metadata": {},
   "outputs": [
    {
     "name": "stdout",
     "output_type": "stream",
     "text": [
      "MPS:\n",
      "    []  \n",
      "[Node\n",
      "(\n",
      "name : '__unnamed_node__',\n",
      "tensor : \n",
      "array(152.42919023),\n",
      "edges : \n",
      "[] \n",
      ")]\n"
     ]
    }
   ],
   "source": [
    "mps4.contract(mps, [(0,0)], direction=\"right\")\n",
    "print(mps4)\n",
    "print(mps4.nodes)"
   ]
  },
  {
   "cell_type": "code",
   "execution_count": 27,
   "metadata": {},
   "outputs": [
    {
     "name": "stdout",
     "output_type": "stream",
     "text": [
      "MPS:\n",
      "  ~~[3, 4, 9]~~~~[9, 4, 3]~~~~[3, 4]  \n",
      "MPS:\n",
      "    [4, 3]~~~~[3, 4, 3]~~~~[3, 4]  \n",
      "MPS:\n",
      "  ~~[3]  \n"
     ]
    },
    {
     "data": {
      "text/plain": [
       "[Node\n",
       " (\n",
       " name : '__unnamed_node__',\n",
       " tensor : \n",
       " array([1601.45765138, 1707.79167513, 1399.5037339 ]),\n",
       " edges : \n",
       " [\n",
       " Edge(Dangling Edge)[0] \n",
       " ] \n",
       " )]"
      ]
     },
     "execution_count": 27,
     "metadata": {},
     "output_type": "execute_result"
    }
   ],
   "source": [
    "print(mps1)\n",
    "print(mps)\n",
    "mps1.contract(mps, [(0,0)])\n",
    "print(mps1)\n",
    "mps1.nodes"
   ]
  },
  {
   "cell_type": "code",
   "execution_count": 28,
   "metadata": {},
   "outputs": [],
   "source": [
    "# mps5.contract(mpsL, [(0,0)], left_index=0, direction=\"left\")"
   ]
  },
  {
   "cell_type": "code",
   "execution_count": 29,
   "metadata": {},
   "outputs": [
    {
     "name": "stdout",
     "output_type": "stream",
     "text": [
      "MPS:\n",
      "  ~~[3, 4]  \n"
     ]
    }
   ],
   "source": [
    "mps5.contract(mpsL, [(0,0)], left_index=0, direction=\"right\")\n",
    "print(mps5)"
   ]
  },
  {
   "cell_type": "code",
   "execution_count": 30,
   "metadata": {},
   "outputs": [
    {
     "data": {
      "text/plain": [
       "array([[ 8.72700002, 10.10018179, 11.58465247,  8.3617415 ],\n",
       "       [13.56925675, 15.83329665, 18.05567942, 13.15356745],\n",
       "       [15.09264109, 17.56151581, 20.0954175 , 14.58744122]])"
      ]
     },
     "execution_count": 30,
     "metadata": {},
     "output_type": "execute_result"
    }
   ],
   "source": [
    "mps5.nodes[0].get_tensor()"
   ]
  },
  {
   "cell_type": "code",
   "execution_count": null,
   "metadata": {},
   "outputs": [],
   "source": []
  }
 ],
 "metadata": {
  "kernelspec": {
   "display_name": "Python 3",
   "language": "python",
   "name": "python3"
  },
  "language_info": {
   "codemirror_mode": {
    "name": "ipython",
    "version": 3
   },
   "file_extension": ".py",
   "mimetype": "text/x-python",
   "name": "python",
   "nbconvert_exporter": "python",
   "pygments_lexer": "ipython3",
   "version": "3.6.12"
  }
 },
 "nbformat": 4,
 "nbformat_minor": 4
}
