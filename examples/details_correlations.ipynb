{
 "cells": [
  {
   "cell_type": "markdown",
   "metadata": {},
   "source": [
    "# Details on the correlations module"
   ]
  },
  {
   "cell_type": "markdown",
   "metadata": {},
   "source": [
    "**For a description on how to use the most important functionality, please checkout the tutorials and the API documentation.**\n",
    "\n",
    "The following example code shows how to use most of the functionality of the `tempo.correlations` module. This code is *suplementary* to the documentation and also includes functionality that is only relevant to the inner workings of the TimeEvolvingMPO package. Sections that show example code that is not part of the API is marked with three asterix `***`.\n",
    "\n",
    "**Contents:**\n",
    "\n",
    "* A: CustomCorrelations class\n",
    "    * A1: correlation()\n",
    "    * A2: correlation_2d_integral() ***\n",
    "        "
   ]
  },
  {
   "cell_type": "code",
   "execution_count": 1,
   "metadata": {},
   "outputs": [],
   "source": [
    "import sys\n",
    "sys.path.insert(0,'..')\n",
    "\n",
    "import numpy as np\n",
    "import matplotlib.pyplot as plt\n",
    "%matplotlib inline\n",
    "\n",
    "import oqupy as tempo"
   ]
  },
  {
   "cell_type": "markdown",
   "metadata": {},
   "source": [
    "## A: CustomCorrelations class"
   ]
  },
  {
   "cell_type": "code",
   "execution_count": 2,
   "metadata": {},
   "outputs": [],
   "source": [
    "correlation_function_A = lambda w: (np.cos(w)+1j*np.sin(w*0.7)) * np.exp(-w/2)\n",
    "correlations_A = tempo.CustomCorrelations(correlation_function_A, max_correlation_time=10.0)"
   ]
  },
  {
   "cell_type": "code",
   "execution_count": 3,
   "metadata": {},
   "outputs": [
    {
     "name": "stdout",
     "output_type": "stream",
     "text": [
      "----------------------------------------------\n",
      "CustomCorrelations object: __unnamed__\n",
      " __no_description__\n",
      "  max_correlation_time = 10.0 \n",
      "\n"
     ]
    }
   ],
   "source": [
    "print(correlations_A)"
   ]
  },
  {
   "cell_type": "code",
   "execution_count": 4,
   "metadata": {},
   "outputs": [
    {
     "data": {
      "text/plain": [
       "10.0"
      ]
     },
     "execution_count": 4,
     "metadata": {},
     "output_type": "execute_result"
    }
   ],
   "source": [
    "correlations_A.max_correlation_time"
   ]
  },
  {
   "cell_type": "markdown",
   "metadata": {},
   "source": [
    "### A2: correlation()"
   ]
  },
  {
   "cell_type": "code",
   "execution_count": 5,
   "metadata": {},
   "outputs": [
    {
     "data": {
      "text/plain": [
       "<matplotlib.legend.Legend at 0x7fccb1588a20>"
      ]
     },
     "execution_count": 5,
     "metadata": {},
     "output_type": "execute_result"
    },
    {
     "data": {
      "image/png": "[encoded data removed]",
      "text/plain": [
       "<Figure size 432x288 with 1 Axes>"
      ]
     },
     "metadata": {
      "needs_background": "light"
     },
     "output_type": "display_data"
    }
   ],
   "source": [
    "t_A2 = np.linspace(0, correlations_A.max_correlation_time, 100)\n",
    "y_A2 = [correlations_A.correlation(tt) for tt in t_A2]\n",
    "# -- plot --\n",
    "plt.xlabel(r\"Time $\\tau$\")\n",
    "plt.ylabel(r\"Auto-correlation $C(\\tau)$\")\n",
    "plt.plot(t_A2,np.real(y_A2), label=\"real part\")\n",
    "plt.plot(t_A2,np.imag(y_A2), label=\"imag part\")\n",
    "plt.plot(t_A2,np.abs(y_A2), label=\"abs value\")\n",
    "plt.legend()"
   ]
  },
  {
   "cell_type": "markdown",
   "metadata": {},
   "source": [
    "### A3: correlation_2d_integral() ***"
   ]
  },
  {
   "cell_type": "code",
   "execution_count": 6,
   "metadata": {},
   "outputs": [
    {
     "data": {
      "text/plain": [
       "(0.002137435203687432+0.0003837887043832471j)"
      ]
     },
     "execution_count": 6,
     "metadata": {},
     "output_type": "execute_result"
    }
   ],
   "source": [
    "square_A3 = correlations_A.correlation_2d_integral(time_1=0.25, delta=0.05, shape=\"square\")\n",
    "square_A3"
   ]
  },
  {
   "cell_type": "code",
   "execution_count": 7,
   "metadata": {
    "scrolled": true
   },
   "outputs": [
    {
     "data": {
      "text/plain": [
       "(0.0010552652986616634+0.00020296766929921522j)"
      ]
     },
     "execution_count": 7,
     "metadata": {},
     "output_type": "execute_result"
    }
   ],
   "source": [
    "upper_A3 = correlations_A.correlation_2d_integral(time_1=0.25, delta=0.05, shape=\"upper-triangle\")\n",
    "upper_A3"
   ]
  },
  {
   "cell_type": "code",
   "execution_count": 8,
   "metadata": {},
   "outputs": [
    {
     "data": {
      "text/plain": [
       "(0.001082169905025768+0.00018082103508403185j)"
      ]
     },
     "execution_count": 8,
     "metadata": {},
     "output_type": "execute_result"
    }
   ],
   "source": [
    "lower_A3 = correlations_A.correlation_2d_integral(time_1=0.25, delta=0.05, shape=\"lower-triangle\")\n",
    "lower_A3"
   ]
  },
  {
   "cell_type": "code",
   "execution_count": 9,
   "metadata": {
    "scrolled": true
   },
   "outputs": [
    {
     "data": {
      "text/plain": [
       "(4.336808689942018e-19+0j)"
      ]
     },
     "execution_count": 9,
     "metadata": {},
     "output_type": "execute_result"
    }
   ],
   "source": [
    "square_A3 - upper_A3 - lower_A3 # should be close to zero"
   ]
  },
  {
   "cell_type": "markdown",
   "metadata": {},
   "source": [
    "## B: CustomSD class"
   ]
  },
  {
   "cell_type": "code",
   "execution_count": 10,
   "metadata": {},
   "outputs": [],
   "source": [
    "correlations_C = tempo.PowerLawSD(alpha=0.2, zeta=0.25, cutoff=1.0, cutoff_type=\"exponential\", temperature=2.0) "
   ]
  },
  {
   "cell_type": "code",
   "execution_count": 11,
   "metadata": {},
   "outputs": [
    {
     "name": "stdout",
     "output_type": "stream",
     "text": [
      "----------------------------------------------\n",
      "PowerLawSD object: __unnamed__\n",
      " __no_description__\n",
      "  cutoff        = 1.0 \n",
      "  cutoff_type   = exponential \n",
      "  temperature   = 2.0 \n",
      "  alpha         = 0.2 \n",
      "  zeta          = 0.25 \n",
      "\n"
     ]
    }
   ],
   "source": [
    "print(correlations_C)"
   ]
  },
  {
   "cell_type": "code",
   "execution_count": 12,
   "metadata": {},
   "outputs": [
    {
     "name": "stderr",
     "output_type": "stream",
     "text": [
      "../oqupy/correlations.py:687: IntegrationWarning: The integral is probably divergent, or slowly convergent.\n",
      "  limit=subdiv_limit)[0]\n",
      "../oqupy/correlations.py:698: IntegrationWarning: The maximum number of subdivisions (256) has been achieved.\n",
      "  If increasing the limit yields no improvement it is advised to analyze \n",
      "  the integrand in order to determine the difficulties.  If the position of a \n",
      "  local difficulty can be determined (singularity, discontinuity) one will \n",
      "  probably gain from splitting up the interval and calling the integrator \n",
      "  on the subranges.  Perhaps a special-purpose integrator should be used.\n",
      "  limit=subdiv_limit)[0]\n",
      "../oqupy/correlations.py:703: IntegrationWarning: The maximum number of subdivisions (256) has been achieved.\n",
      "  If increasing the limit yields no improvement it is advised to analyze \n",
      "  the integrand in order to determine the difficulties.  If the position of a \n",
      "  local difficulty can be determined (singularity, discontinuity) one will \n",
      "  probably gain from splitting up the interval and calling the integrator \n",
      "  on the subranges.  Perhaps a special-purpose integrator should be used.\n",
      "  limit=subdiv_limit)[0]\n"
     ]
    },
    {
     "data": {
      "text/plain": [
       "(1.2882098504744224-0.00026330624153848023j)"
      ]
     },
     "execution_count": 12,
     "metadata": {},
     "output_type": "execute_result"
    }
   ],
   "source": [
    "correlations_C.correlation(300,epsrel=2.0e-2)"
   ]
  },
  {
   "cell_type": "code",
   "execution_count": 13,
   "metadata": {},
   "outputs": [
    {
     "data": {
      "text/plain": [
       "<matplotlib.legend.Legend at 0x7fcca938bcc0>"
      ]
     },
     "execution_count": 13,
     "metadata": {},
     "output_type": "execute_result"
    },
    {
     "data": {
      "image/png": "[encoded data removed]",
      "text/plain": [
       "<Figure size 432x288 with 1 Axes>"
      ]
     },
     "metadata": {
      "needs_background": "light"
     },
     "output_type": "display_data"
    }
   ],
   "source": [
    "t_C2 = np.linspace(0, 200, 50)\n",
    "y_C2 = [correlations_C.correlation(tt,epsrel=2.0e-2) for tt in t_C2]\n",
    "# -- plot --\n",
    "plt.xlabel(r\"Time $\\tau$\")\n",
    "plt.ylabel(r\"Auto-correlation $C(\\tau)$\")\n",
    "plt.plot(t_C2,np.real(y_C2), label=\"real part\")\n",
    "plt.plot(t_C2,np.imag(y_C2), label=\"imag part\")\n",
    "plt.plot(t_C2,np.abs(y_C2), label=\"abs value\")\n",
    "plt.legend()"
   ]
  },
  {
   "cell_type": "code",
   "execution_count": 14,
   "metadata": {},
   "outputs": [
    {
     "name": "stderr",
     "output_type": "stream",
     "text": [
      "../oqupy/correlations.py:687: IntegrationWarning: The integral is probably divergent, or slowly convergent.\n",
      "  limit=subdiv_limit)[0]\n",
      "../oqupy/correlations.py:698: IntegrationWarning: The maximum number of subdivisions (256) has been achieved.\n",
      "  If increasing the limit yields no improvement it is advised to analyze \n",
      "  the integrand in order to determine the difficulties.  If the position of a \n",
      "  local difficulty can be determined (singularity, discontinuity) one will \n",
      "  probably gain from splitting up the interval and calling the integrator \n",
      "  on the subranges.  Perhaps a special-purpose integrator should be used.\n",
      "  limit=subdiv_limit)[0]\n",
      "../oqupy/correlations.py:703: IntegrationWarning: The maximum number of subdivisions (256) has been achieved.\n",
      "  If increasing the limit yields no improvement it is advised to analyze \n",
      "  the integrand in order to determine the difficulties.  If the position of a \n",
      "  local difficulty can be determined (singularity, discontinuity) one will \n",
      "  probably gain from splitting up the interval and calling the integrator \n",
      "  on the subranges.  Perhaps a special-purpose integrator should be used.\n",
      "  limit=subdiv_limit)[0]\n"
     ]
    },
    {
     "data": {
      "text/plain": [
       "(1.2882085943858892-0.0002636641857061457j)"
      ]
     },
     "execution_count": 14,
     "metadata": {},
     "output_type": "execute_result"
    }
   ],
   "source": [
    "correlations_C.correlation(300,epsrel=2.0e-3)"
   ]
  },
  {
   "cell_type": "markdown",
   "metadata": {},
   "source": [
    "### C3: correlation_2d_integral() ***"
   ]
  },
  {
   "cell_type": "code",
   "execution_count": 15,
   "metadata": {},
   "outputs": [
    {
     "name": "stderr",
     "output_type": "stream",
     "text": [
      "../oqupy/correlations.py:787: IntegrationWarning: The algorithm does not converge.  Roundoff error is detected\n",
      "  in the extrapolation table.  It is assumed that the requested tolerance\n",
      "  cannot be achieved, and that the returned result (if full_output = 1) is \n",
      "  the best which can be obtained.\n",
      "  limit=subdiv_limit)[0]\n"
     ]
    },
    {
     "data": {
      "text/plain": [
       "(0.012557072716269562-0.00045309216033404285j)"
      ]
     },
     "execution_count": 15,
     "metadata": {},
     "output_type": "execute_result"
    }
   ],
   "source": [
    "square_C3 = correlations_C.correlation_2d_integral(time_1=1.25, delta=0.05, shape=\"square\")\n",
    "square_C3"
   ]
  },
  {
   "cell_type": "code",
   "execution_count": 16,
   "metadata": {
    "scrolled": true
   },
   "outputs": [
    {
     "data": {
      "text/plain": [
       "(0.006263431707262852-0.0002251359745941362j)"
      ]
     },
     "execution_count": 16,
     "metadata": {},
     "output_type": "execute_result"
    }
   ],
   "source": [
    "upper_C3 = correlations_C.correlation_2d_integral(time_1=1.25, delta=0.05, shape=\"upper-triangle\")\n",
    "upper_C3"
   ]
  },
  {
   "cell_type": "code",
   "execution_count": 17,
   "metadata": {},
   "outputs": [
    {
     "name": "stderr",
     "output_type": "stream",
     "text": [
      "../oqupy/correlations.py:787: IntegrationWarning: The integral is probably divergent, or slowly convergent.\n",
      "  limit=subdiv_limit)[0]\n"
     ]
    },
    {
     "data": {
      "text/plain": [
       "(0.00629376406052472-0.00022795617281928853j)"
      ]
     },
     "execution_count": 17,
     "metadata": {},
     "output_type": "execute_result"
    }
   ],
   "source": [
    "lower_C3 = correlations_C.correlation_2d_integral(time_1=1.25, delta=0.05, shape=\"lower-triangle\")\n",
    "lower_C3"
   ]
  },
  {
   "cell_type": "code",
   "execution_count": 18,
   "metadata": {
    "scrolled": true
   },
   "outputs": [
    {
     "data": {
      "text/plain": [
       "(-1.2305151801065423e-07-1.2920618134432127e-11j)"
      ]
     },
     "execution_count": 18,
     "metadata": {},
     "output_type": "execute_result"
    }
   ],
   "source": [
    "square_C3 - upper_C3 - lower_C3 # should be close to zero"
   ]
  },
  {
   "cell_type": "code",
   "execution_count": 19,
   "metadata": {},
   "outputs": [
    {
     "name": "stdout",
     "output_type": "stream",
     "text": [
      "326 ns ± 12.4 ns per loop (mean ± std. dev. of 7 runs, 1000000 loops each)\n"
     ]
    }
   ],
   "source": [
    "%timeit correlations_C.correlation_2d_integral(time_1=1.25, delta=0.05, shape=\"upper-triangle\",epsrel=1.0e-2)"
   ]
  },
  {
   "cell_type": "code",
   "execution_count": null,
   "metadata": {},
   "outputs": [],
   "source": []
  }
 ],
 "metadata": {
  "kernelspec": {
   "display_name": "Python 3",
   "language": "python",
   "name": "python3"
  },
  "language_info": {
   "codemirror_mode": {
    "name": "ipython",
    "version": 3
   },
   "file_extension": ".py",
   "mimetype": "text/x-python",
   "name": "python",
   "nbconvert_exporter": "python",
   "pygments_lexer": "ipython3",
   "version": "3.6.12"
  }
 },
 "nbformat": 4,
 "nbformat_minor": 2
}
