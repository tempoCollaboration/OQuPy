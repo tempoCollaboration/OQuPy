{
 "cells": [
  {
   "cell_type": "markdown",
   "metadata": {},
   "source": [
    "# Details on the bath module"
   ]
  },
  {
   "cell_type": "markdown",
   "metadata": {},
   "source": [
    "**For a description on how to use the most important functionality, please checkout the tutorials and the API documentation.**\n",
    "\n",
    "The following example code shows how to use most of the functionality of the `tempo.bath` module. This code is *suplementary* to the documentation and also includes functionality that is only relevant to the inner workings of the TimeEvolvingMPO package. Sections that show example code that is not part of the API is marked with three asterix `***`.\n",
    "\n",
    "**Contents:**\n",
    "\n",
    "* A: Bath class\n",
    "    * A1: Quasi immutable bath properties\n",
    "    * A2: Mutable bath properties\n"
   ]
  },
  {
   "cell_type": "code",
   "execution_count": 1,
   "metadata": {},
   "outputs": [
    {
     "data": {
      "text/plain": [
       "'0.1.1'"
      ]
     },
     "execution_count": 1,
     "metadata": {},
     "output_type": "execute_result"
    }
   ],
   "source": [
    "import sys\n",
    "sys.path.insert(0,'..')\n",
    "\n",
    "import numpy as np\n",
    "\n",
    "import time_evolving_mpo as tempo\n",
    "\n",
    "tempo.__version__"
   ]
  },
  {
   "cell_type": "markdown",
   "metadata": {},
   "source": [
    "## A: Bath class"
   ]
  },
  {
   "cell_type": "markdown",
   "metadata": {},
   "source": [
    "Define the physics of the bath:"
   ]
  },
  {
   "cell_type": "code",
   "execution_count": 2,
   "metadata": {},
   "outputs": [],
   "source": [
    "coupling_operator = tempo.operators.sigma(\"y\")\n",
    "spectral_density = tempo.PowerLawSD(alpha=0.1,\n",
    "                                    zeta=1.0,\n",
    "                                    cutoff=4.0,\n",
    "                                    cutoff_type=\"exponential\",\n",
    "                                    temperature=2.0, \n",
    "                                    name=\"ohmic\")"
   ]
  },
  {
   "cell_type": "markdown",
   "metadata": {},
   "source": [
    "Create a `tempo.Bath` object to encapsulate this bath information:"
   ]
  },
  {
   "cell_type": "code",
   "execution_count": 3,
   "metadata": {},
   "outputs": [],
   "source": [
    "bath_A = tempo.Bath(coupling_operator, spectral_density, name=\"phonon bath\")"
   ]
  },
  {
   "cell_type": "code",
   "execution_count": 4,
   "metadata": {},
   "outputs": [
    {
     "name": "stdout",
     "output_type": "stream",
     "text": [
      "----------------------------------------------\n",
      "Bath object: phonon bath\n",
      " __no_description__\n",
      "  dimension     = 2 \n",
      "  correlations  = ohmic \n",
      "\n"
     ]
    }
   ],
   "source": [
    "print(bath_A)"
   ]
  },
  {
   "cell_type": "code",
   "execution_count": 5,
   "metadata": {},
   "outputs": [
    {
     "name": "stdout",
     "output_type": "stream",
     "text": [
      "[[ 1.+0.j  0.+0.j]\n",
      " [ 0.+0.j -1.+0.j]]\n",
      "[[-0.        -0.70710678j  0.70710678+0.j        ]\n",
      " [ 0.70710678+0.j          0.        -0.70710678j]]\n"
     ]
    }
   ],
   "source": [
    "print(bath_A.coupling_operator)\n",
    "print(bath_A.unitary_transform)"
   ]
  },
  {
   "cell_type": "markdown",
   "metadata": {},
   "source": [
    "**Hint** *** : to protect `bath_A.spectral_density` from being changed by the user `bath_A.spectral_density` returns a copy of the spectral density. For performance reasons it is therefor advisable not to call `bath_A.spectral_density` repeatedly, but to store it in the local namespace and call that local copy repeatedly. The same applies to `bath_A.coupling_operator`."
   ]
  },
  {
   "cell_type": "code",
   "execution_count": null,
   "metadata": {},
   "outputs": [],
   "source": []
  }
 ],
 "metadata": {
  "kernelspec": {
   "display_name": "Python 3",
   "language": "python",
   "name": "python3"
  },
  "language_info": {
   "codemirror_mode": {
    "name": "ipython",
    "version": 3
   },
   "file_extension": ".py",
   "mimetype": "text/x-python",
   "name": "python",
   "nbconvert_exporter": "python",
   "pygments_lexer": "ipython3",
   "version": "3.6.12"
  }
 },
 "nbformat": 4,
 "nbformat_minor": 2
}
