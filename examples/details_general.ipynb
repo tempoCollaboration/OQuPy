{
 "cells": [
  {
   "cell_type": "markdown",
   "metadata": {},
   "source": [
    "# General Details on the TimeEvolvingMPO package"
   ]
  },
  {
   "cell_type": "markdown",
   "metadata": {},
   "source": [
    "**For a description on how to use the most important functionality, please checkout the tutorials and the API documentation.**\n",
    "\n",
    "The following example code elaborates on some details on how to use the TimeEvolvingMPO package. This code is *suplementary* to the documentation and also includes functionality that is only relevant to the inner workings of the TimeEvolvingMPO package. Sections that show example code that is not part of the API is marked with three asterix `***`.\n",
    "\n",
    "**Contents:**\n",
    "\n",
    "* A: API classes (Bath, System, TempoSystem, ...)\n",
    "    * A1: API object name and description\n",
    "    * A2: Quasi immutable API objects properties\n"
   ]
  },
  {
   "cell_type": "code",
   "execution_count": 1,
   "metadata": {},
   "outputs": [],
   "source": [
    "import sys\n",
    "sys.path.insert(0,'..')\n",
    "\n",
    "import oqupy as tempo"
   ]
  },
  {
   "cell_type": "markdown",
   "metadata": {},
   "source": [
    "## A: API classes (StandardSD, Bath, System, TempoSystem, ...)"
   ]
  },
  {
   "cell_type": "markdown",
   "metadata": {},
   "source": [
    "All the classes that belong to the API are derived classes from `tempo.base_api.BaseAPIClass` and therefore all share some specific behaviour. To elaborate on this, let's take a StandardSD and a Bath object (as an example of API objects):"
   ]
  },
  {
   "cell_type": "code",
   "execution_count": 2,
   "metadata": {},
   "outputs": [],
   "source": [
    "temperature = 2.0\n",
    "coupling_operator = tempo.operators.sigma(\"z\")\n",
    "correlations_A = tempo.PowerLawSD(alpha=0.1, \n",
    "                                  zeta=1.0, \n",
    "                                  cutoff=4.0, \n",
    "                                  cutoff_type=\"exponential\", \n",
    "                                  temperature=temperature)\n",
    "bath_A = tempo.Bath(coupling_operator,\n",
    "                    correlations_A,\n",
    "                    name=\"phonon bath no 3\",\n",
    "                    description=\"The phonons in a rod.\",\n",
    "                    description_dict={\"no\":3})"
   ]
  },
  {
   "cell_type": "markdown",
   "metadata": {},
   "source": [
    "### A1: API object name and description"
   ]
  },
  {
   "cell_type": "markdown",
   "metadata": {},
   "source": [
    "When we can print an API object to display some information about it."
   ]
  },
  {
   "cell_type": "code",
   "execution_count": 3,
   "metadata": {},
   "outputs": [
    {
     "name": "stdout",
     "output_type": "stream",
     "text": [
      "----------------------------------------------\n",
      "PowerLawSD object: __unnamed__\n",
      " __no_description__\n",
      "  cutoff        = 4.0 \n",
      "  cutoff_type   = exponential \n",
      "  temperature   = 2.0 \n",
      "  alpha         = 0.1 \n",
      "  zeta          = 1.0 \n",
      "\n"
     ]
    }
   ],
   "source": [
    "print(correlations_A)"
   ]
  },
  {
   "cell_type": "code",
   "execution_count": 4,
   "metadata": {},
   "outputs": [
    {
     "name": "stdout",
     "output_type": "stream",
     "text": [
      "----------------------------------------------\n",
      "Bath object: phonon bath no 3\n",
      " The phonons in a rod.\n",
      "  dimension     = 2 \n",
      "  correlations  = __unnamed__ \n",
      "\n"
     ]
    }
   ],
   "source": [
    "print(bath_A)"
   ]
  },
  {
   "cell_type": "markdown",
   "metadata": {},
   "source": [
    "The properties `name`, `description` and `description_dict` can be returned, set and deleted."
   ]
  },
  {
   "cell_type": "code",
   "execution_count": 5,
   "metadata": {},
   "outputs": [],
   "source": [
    "bath_A.name = \"phoTon bath #3\""
   ]
  },
  {
   "cell_type": "code",
   "execution_count": 6,
   "metadata": {},
   "outputs": [
    {
     "data": {
      "text/plain": [
       "'phoTon bath #3'"
      ]
     },
     "execution_count": 6,
     "metadata": {},
     "output_type": "execute_result"
    }
   ],
   "source": [
    "bath_A.name"
   ]
  },
  {
   "cell_type": "code",
   "execution_count": 7,
   "metadata": {},
   "outputs": [],
   "source": [
    "# bath_A2.name = 2.0 # this will raise an AttributeError (because name must be text)"
   ]
  },
  {
   "cell_type": "code",
   "execution_count": 8,
   "metadata": {},
   "outputs": [],
   "source": [
    "del bath_A.name"
   ]
  },
  {
   "cell_type": "code",
   "execution_count": 9,
   "metadata": {},
   "outputs": [
    {
     "data": {
      "text/plain": [
       "'__unnamed__'"
      ]
     },
     "execution_count": 9,
     "metadata": {},
     "output_type": "execute_result"
    }
   ],
   "source": [
    "bath_A.name"
   ]
  },
  {
   "cell_type": "code",
   "execution_count": 10,
   "metadata": {},
   "outputs": [
    {
     "name": "stdout",
     "output_type": "stream",
     "text": [
      "----------------------------------------------\n",
      "Bath object: __unnamed__\n",
      " The phonons in a rod.\n",
      "  dimension     = 2 \n",
      "  correlations  = __unnamed__ \n",
      "\n"
     ]
    }
   ],
   "source": [
    "print(bath_A)"
   ]
  },
  {
   "cell_type": "markdown",
   "metadata": {},
   "source": [
    "### A2: Quasi immutable API objects properties"
   ]
  },
  {
   "cell_type": "markdown",
   "metadata": {},
   "source": [
    "In addition to the descriptive properties from above most API objects have additional properties that must be set when constructed. To make sure that the user doesn't change those properties accidentally they don't have setter or delter methods and only return copys of the property."
   ]
  },
  {
   "cell_type": "markdown",
   "metadata": {},
   "source": [
    "For example: Once a bath is created with a specific coupling operator, spectral density and temperature, they can't (shouldn't) be changed"
   ]
  },
  {
   "cell_type": "markdown",
   "metadata": {},
   "source": [
    "You can have a look at the coupling operator"
   ]
  },
  {
   "cell_type": "code",
   "execution_count": 11,
   "metadata": {},
   "outputs": [
    {
     "name": "stdout",
     "output_type": "stream",
     "text": [
      "[[ 1.+0.j  0.+0.j]\n",
      " [ 0.+0.j -1.+0.j]]\n"
     ]
    }
   ],
   "source": [
    "print(bath_A.coupling_operator)"
   ]
  },
  {
   "cell_type": "markdown",
   "metadata": {},
   "source": [
    "You can look, but can't touch!"
   ]
  },
  {
   "cell_type": "code",
   "execution_count": 12,
   "metadata": {},
   "outputs": [],
   "source": [
    "# bath_A.coupling_operator=tempo.operators.sigma(\"x\")  # this will raise an AttributeError"
   ]
  },
  {
   "cell_type": "markdown",
   "metadata": {},
   "source": [
    "Also, you can't change it by reference (because it only returns a copy)"
   ]
  },
  {
   "cell_type": "code",
   "execution_count": 13,
   "metadata": {},
   "outputs": [],
   "source": [
    "coupling_op = bath_A.coupling_operator"
   ]
  },
  {
   "cell_type": "code",
   "execution_count": 14,
   "metadata": {},
   "outputs": [],
   "source": [
    "coupling_op[0,1] = 42"
   ]
  },
  {
   "cell_type": "code",
   "execution_count": 15,
   "metadata": {},
   "outputs": [
    {
     "name": "stdout",
     "output_type": "stream",
     "text": [
      "[[ 1.+0.j 42.+0.j]\n",
      " [ 0.+0.j -1.+0.j]]\n"
     ]
    }
   ],
   "source": [
    "print(coupling_op)"
   ]
  },
  {
   "cell_type": "code",
   "execution_count": 16,
   "metadata": {},
   "outputs": [
    {
     "name": "stdout",
     "output_type": "stream",
     "text": [
      "[[ 1.+0.j  0.+0.j]\n",
      " [ 0.+0.j -1.+0.j]]\n"
     ]
    }
   ],
   "source": [
    "print(bath_A.coupling_operator)"
   ]
  },
  {
   "cell_type": "markdown",
   "metadata": {},
   "source": [
    "The same goes for the spectral density and the temperature"
   ]
  },
  {
   "cell_type": "code",
   "execution_count": 17,
   "metadata": {},
   "outputs": [
    {
     "name": "stdout",
     "output_type": "stream",
     "text": [
      "----------------------------------------------\n",
      "PowerLawSD object: __unnamed__\n",
      " __no_description__\n",
      "  cutoff        = 4.0 \n",
      "  cutoff_type   = exponential \n",
      "  temperature   = 2.0 \n",
      "  alpha         = 0.1 \n",
      "  zeta          = 1.0 \n",
      "\n"
     ]
    }
   ],
   "source": [
    "print(bath_A.correlations)"
   ]
  },
  {
   "cell_type": "code",
   "execution_count": 18,
   "metadata": {},
   "outputs": [
    {
     "name": "stdout",
     "output_type": "stream",
     "text": [
      "2.0\n"
     ]
    }
   ],
   "source": [
    "print(bath_A.correlations.temperature)"
   ]
  },
  {
   "cell_type": "markdown",
   "metadata": {},
   "source": [
    "**Hint on performance** *** : to protect `bath_A.correlations` from being changed by the user `bath_A.correlations` returns a copy of the spectral density. For performance reasons it is therefor advisable not to call `bath_A.correlations` repeatedly, but to store it in the local namespace and call that local copy repeatedly. The same applies to other quasi immutable API object properties!"
   ]
  },
  {
   "cell_type": "code",
   "execution_count": null,
   "metadata": {},
   "outputs": [],
   "source": []
  }
 ],
 "metadata": {
  "kernelspec": {
   "display_name": "Python 3",
   "language": "python",
   "name": "python3"
  },
  "language_info": {
   "codemirror_mode": {
    "name": "ipython",
    "version": 3
   },
   "file_extension": ".py",
   "mimetype": "text/x-python",
   "name": "python",
   "nbconvert_exporter": "python",
   "pygments_lexer": "ipython3",
   "version": "3.6.12"
  }
 },
 "nbformat": 4,
 "nbformat_minor": 2
}
