{
 "cells": [
  {
   "cell_type": "markdown",
   "metadata": {},
   "source": [
    "# Time dependence and PT-TEMPO\n",
    "Guide to using the OQuPy package to compute the dynamics of a many-body system of the type introduced in [FowlerWright2021] ([arXiv:2112.09003](http://arxiv.org/abs/2112.09003)). We demonstrate both the TEMPO and PT-TEMPO methods for this calculation."
   ]
  },
  {
   "cell_type": "markdown",
   "metadata": {},
   "source": [
    "**Contents:**\n",
    "\n",
    "* Example - Dicke Hamiltonian under the rotating wave approximation\n",
    "    1. Many-body system and environment Hamiltonian\n",
    "    2. System Hamiltonian and field equation of motion after the mean-field reduction\n",
    "    3. Create time dependent system with field object\n",
    "    4. TEMPO computation for single dynamics\n",
    "    5. PT-TEMPO computation for multiple sets of dynamics"
   ]
  },
  {
   "cell_type": "markdown",
   "metadata": {},
   "source": [
    "First, import OQuPy and other relevant packages:"
   ]
  },
  {
   "cell_type": "code",
   "execution_count": 2,
   "metadata": {},
   "outputs": [
    {
     "ename": "ModuleNotFoundError",
     "evalue": "No module named 'tensornetwork'",
     "output_type": "error",
     "traceback": [
      "\u001b[0;31m---------------------------------------------------------------------------\u001b[0m",
      "\u001b[0;31mModuleNotFoundError\u001b[0m                       Traceback (most recent call last)",
      "Input \u001b[0;32mIn [2]\u001b[0m, in \u001b[0;36m<cell line: 4>\u001b[0;34m()\u001b[0m\n\u001b[1;32m      1\u001b[0m \u001b[38;5;28;01mimport\u001b[39;00m \u001b[38;5;21;01msys\u001b[39;00m\n\u001b[1;32m      2\u001b[0m sys\u001b[38;5;241m.\u001b[39mpath\u001b[38;5;241m.\u001b[39minsert(\u001b[38;5;241m0\u001b[39m,\u001b[38;5;124m'\u001b[39m\u001b[38;5;124m..\u001b[39m\u001b[38;5;124m'\u001b[39m)\n\u001b[0;32m----> 4\u001b[0m \u001b[38;5;28;01mimport\u001b[39;00m \u001b[38;5;21;01moqupy\u001b[39;00m\n\u001b[1;32m      5\u001b[0m \u001b[38;5;28;01mimport\u001b[39;00m \u001b[38;5;21;01mnumpy\u001b[39;00m \u001b[38;5;28;01mas\u001b[39;00m \u001b[38;5;21;01mnp\u001b[39;00m\n\u001b[1;32m      6\u001b[0m \u001b[38;5;28;01mimport\u001b[39;00m \u001b[38;5;21;01mmatplotlib\u001b[39;00m\u001b[38;5;21;01m.\u001b[39;00m\u001b[38;5;21;01mpyplot\u001b[39;00m \u001b[38;5;28;01mas\u001b[39;00m \u001b[38;5;21;01mplt\u001b[39;00m\n",
      "File \u001b[0;32m~/documents/saints/phd/tempo/OQuPy/tutorials/../oqupy/__init__.py:56\u001b[0m, in \u001b[0;36m<module>\u001b[0;34m\u001b[0m\n\u001b[1;32m     52\u001b[0m \u001b[38;5;66;03m# -- Modules in alphabetical order --------------------------------------------\u001b[39;00m\n\u001b[1;32m     54\u001b[0m \u001b[38;5;28;01mfrom\u001b[39;00m \u001b[38;5;21;01moqupy\u001b[39;00m\u001b[38;5;21;01m.\u001b[39;00m\u001b[38;5;21;01mbath\u001b[39;00m \u001b[38;5;28;01mimport\u001b[39;00m Bath\n\u001b[0;32m---> 56\u001b[0m \u001b[38;5;28;01mfrom\u001b[39;00m \u001b[38;5;21;01moqupy\u001b[39;00m\u001b[38;5;21;01m.\u001b[39;00m\u001b[38;5;21;01mbath_dynamics\u001b[39;00m \u001b[38;5;28;01mimport\u001b[39;00m TwoTimeBathCorrelations\n\u001b[1;32m     58\u001b[0m \u001b[38;5;28;01mfrom\u001b[39;00m \u001b[38;5;21;01moqupy\u001b[39;00m\u001b[38;5;21;01m.\u001b[39;00m\u001b[38;5;21;01mcontractions\u001b[39;00m \u001b[38;5;28;01mimport\u001b[39;00m compute_correlations\n\u001b[1;32m     59\u001b[0m \u001b[38;5;28;01mfrom\u001b[39;00m \u001b[38;5;21;01moqupy\u001b[39;00m\u001b[38;5;21;01m.\u001b[39;00m\u001b[38;5;21;01mcontractions\u001b[39;00m \u001b[38;5;28;01mimport\u001b[39;00m compute_dynamics\n",
      "File \u001b[0;32m~/documents/saints/phd/tempo/OQuPy/tutorials/../oqupy/bath_dynamics.py:28\u001b[0m, in \u001b[0;36m<module>\u001b[0;34m\u001b[0m\n\u001b[1;32m     25\u001b[0m \u001b[38;5;28;01mfrom\u001b[39;00m \u001b[38;5;21;01mnumpy\u001b[39;00m \u001b[38;5;28;01mimport\u001b[39;00m ndarray\n\u001b[1;32m     27\u001b[0m \u001b[38;5;28;01mfrom\u001b[39;00m \u001b[38;5;21;01moqupy\u001b[39;00m\u001b[38;5;21;01m.\u001b[39;00m\u001b[38;5;21;01mbase_api\u001b[39;00m \u001b[38;5;28;01mimport\u001b[39;00m BaseAPIClass\n\u001b[0;32m---> 28\u001b[0m \u001b[38;5;28;01mfrom\u001b[39;00m \u001b[38;5;21;01moqupy\u001b[39;00m\u001b[38;5;21;01m.\u001b[39;00m\u001b[38;5;21;01mprocess_tensor\u001b[39;00m \u001b[38;5;28;01mimport\u001b[39;00m BaseProcessTensor\n\u001b[1;32m     29\u001b[0m \u001b[38;5;28;01mfrom\u001b[39;00m \u001b[38;5;21;01moqupy\u001b[39;00m\u001b[38;5;21;01m.\u001b[39;00m\u001b[38;5;21;01mbath\u001b[39;00m \u001b[38;5;28;01mimport\u001b[39;00m Bath\n\u001b[1;32m     30\u001b[0m \u001b[38;5;28;01mfrom\u001b[39;00m \u001b[38;5;21;01moqupy\u001b[39;00m\u001b[38;5;21;01m.\u001b[39;00m\u001b[38;5;21;01msystem\u001b[39;00m \u001b[38;5;28;01mimport\u001b[39;00m BaseSystem\n",
      "File \u001b[0;32m~/documents/saints/phd/tempo/OQuPy/tutorials/../oqupy/process_tensor.py:30\u001b[0m, in \u001b[0;36m<module>\u001b[0;34m\u001b[0m\n\u001b[1;32m     28\u001b[0m \u001b[38;5;28;01mimport\u001b[39;00m \u001b[38;5;21;01mnumpy\u001b[39;00m \u001b[38;5;28;01mas\u001b[39;00m \u001b[38;5;21;01mnp\u001b[39;00m\n\u001b[1;32m     29\u001b[0m \u001b[38;5;28;01mfrom\u001b[39;00m \u001b[38;5;21;01mnumpy\u001b[39;00m \u001b[38;5;28;01mimport\u001b[39;00m ndarray\n\u001b[0;32m---> 30\u001b[0m \u001b[38;5;28;01mimport\u001b[39;00m \u001b[38;5;21;01mtensornetwork\u001b[39;00m \u001b[38;5;28;01mas\u001b[39;00m \u001b[38;5;21;01mtn\u001b[39;00m\n\u001b[1;32m     31\u001b[0m \u001b[38;5;28;01mimport\u001b[39;00m \u001b[38;5;21;01mh5py\u001b[39;00m\n\u001b[1;32m     33\u001b[0m \u001b[38;5;28;01mfrom\u001b[39;00m \u001b[38;5;21;01moqupy\u001b[39;00m\u001b[38;5;21;01m.\u001b[39;00m\u001b[38;5;21;01mbase_api\u001b[39;00m \u001b[38;5;28;01mimport\u001b[39;00m BaseAPIClass\n",
      "\u001b[0;31mModuleNotFoundError\u001b[0m: No module named 'tensornetwork'"
     ]
    }
   ],
   "source": [
    "import sys\n",
    "sys.path.insert(0,'..')\n",
    "\n",
    "import oqupy\n",
    "import numpy as np\n",
    "import matplotlib.pyplot as plt"
   ]
  },
  {
   "cell_type": "markdown",
   "metadata": {},
   "source": [
    "Check the installed OQuPy version; TEMPO with mean-field evolution was introduced in **?.?.0**"
   ]
  },
  {
   "cell_type": "code",
   "execution_count": 2,
   "metadata": {},
   "outputs": [
    {
     "data": {
      "text/plain": [
       "'0.2-dev'"
      ]
     },
     "execution_count": 2,
     "metadata": {},
     "output_type": "execute_result"
    }
   ],
   "source": [
    "oqupy.__version__"
   ]
  },
  {
   "cell_type": "markdown",
   "metadata": {},
   "source": [
    "The following matrices will be useful below:"
   ]
  },
  {
   "cell_type": "code",
   "execution_count": 3,
   "metadata": {},
   "outputs": [
    {
     "ename": "NameError",
     "evalue": "name 'oqupy' is not defined",
     "output_type": "error",
     "traceback": [
      "\u001b[0;31m---------------------------------------------------------------------------\u001b[0m",
      "\u001b[0;31mNameError\u001b[0m                                 Traceback (most recent call last)",
      "Input \u001b[0;32mIn [3]\u001b[0m, in \u001b[0;36m<cell line: 1>\u001b[0;34m()\u001b[0m\n\u001b[0;32m----> 1\u001b[0m sigma_z \u001b[38;5;241m=\u001b[39m \u001b[43moqupy\u001b[49m\u001b[38;5;241m.\u001b[39moperators\u001b[38;5;241m.\u001b[39msigma(\u001b[38;5;124m\"\u001b[39m\u001b[38;5;124mz\u001b[39m\u001b[38;5;124m\"\u001b[39m)\n\u001b[1;32m      2\u001b[0m sigma_plus \u001b[38;5;241m=\u001b[39m oqupy\u001b[38;5;241m.\u001b[39moperators\u001b[38;5;241m.\u001b[39msigma(\u001b[38;5;124m\"\u001b[39m\u001b[38;5;124m+\u001b[39m\u001b[38;5;124m\"\u001b[39m)\n\u001b[1;32m      3\u001b[0m sigma_minus \u001b[38;5;241m=\u001b[39m oqupy\u001b[38;5;241m.\u001b[39moperators\u001b[38;5;241m.\u001b[39msigma(\u001b[38;5;124m\"\u001b[39m\u001b[38;5;124m-\u001b[39m\u001b[38;5;124m\"\u001b[39m)\n",
      "\u001b[0;31mNameError\u001b[0m: name 'oqupy' is not defined"
     ]
    }
   ],
   "source": [
    "sigma_z = oqupy.operators.sigma(\"z\")\n",
    "sigma_plus = oqupy.operators.sigma(\"+\")\n",
    "sigma_minus = oqupy.operators.sigma(\"-\")"
   ]
  },
  {
   "cell_type": "markdown",
   "metadata": {},
   "source": [
    "-------------------------------------------------\n",
    "## Example - Dicke Hamiltonian under the rotating wave approximation\n",
    "\n",
    "Our goal will be to reproduce **Fig. 2a.** of [FowlerWright2021] ([arXiv:2112.09003](http://arxiv.org/abs/2112.09003)), firstly using TEMPO to obtain a single line from this figure, and then PT-TEMPO to obtain all lines in short succession. \n",
    "\n",
    "### 1. Many-body system and environment Hamiltonian\n",
    "The Hamiltonian describing the many-body system with one-to-all light-matter coupling is\n",
    "$$\n",
    "H_{S} = \\omega_c a^{\\dagger}_{}a^{\\vphantom{\\dagger}}_{} \n",
    "\t+ \\sum_{i=1}^N \\left[\\frac{\\omega_0}{2} \\sigma^z_i\n",
    "\t+  \\frac{\\Omega}{2\\sqrt{N}} \\left( a^{\\vphantom{\\dagger}}_{} \\sigma^+_i + a^{\\dagger}_{} \\sigma^-_i \\right)\\right]\n",
    "$$\n",
    "Together with the vibrational environment of each molecule,\n",
    "$$\n",
    "\tH_{E}^{(i)} = \\sum_{j} \\left[\t\\nu_{j} b^{\\dagger}_{j} b^{\\vphantom{\\dagger}}_{j} \n",
    "\t+ \\frac{\\xi_{j}}{2} (b^{\\vphantom{\\dagger}}_{j}+b^{\\dagger}_{j})\\sigma^z_i\\right]\\text{,}\n",
    "$$\n",
    "which is taken to be a continuum of low frequency modes with coupling characterized by a spectral density \n",
    "$$\n",
    "\\begin{align*}\n",
    "J(\\nu) &= \\sum_{j}  \\left(\\frac{\\xi_j}{2}\\right)^2\n",
    "\\delta(\\nu-\\nu_j) \\\\\n",
    "&= 2\\alpha \\nu e^{-(\\nu/\\nu_c)^2}\\text{,} \\quad \\nu>0\\text{,}\n",
    "\\end{align*}\n",
    "$$\n",
    "where $\\alpha=0.25$ and $\\nu_c=0.15$ eV for the environment of BODIPY-Br considered in the Letter. Other system and environment parameters relevant to **Fig. 2a.** are, in units of eV,\n",
    "* $T=0.026$ ($300$ K) - environment temperature\n",
    "* $\\omega_0=0$ - two-level system frequency**\\***\n",
    "* $\\omega_c=-0.02$ - bare cavity frequency\n",
    "* $\\Omega=0.2$ - collective light-matter coupling\n",
    "\n",
    "together with the rates\n",
    "* $\\kappa=0.01$ - field decay\n",
    "* $\\Gamma_\\downarrow = 0.01$ - electronic dissipation\n",
    "* $\\Gamma_\\uparrow \\in (0.2\\Gamma_\\downarrow,0.8\\Gamma_\\downarrow) $ - electronic pumping\n",
    "\n",
    "which appear as prefactors for Markovian terms in the quantum master equation for the total density operator\n",
    "$$\n",
    "\t\t\\partial_t \\rho = -i \\biggl[ H_S + \\sum_{i=1}^N H_E^{(i)}, \\rho \\biggr]\n",
    "\t+ 2 \\kappa \\mathcal{L}[a^{\\vphantom{\\dagger}}_{}]\n",
    "\t+ \\sum_{i=1}^N (\\Gamma_\\uparrow \\mathcal{L}[\\sigma^+_i]\n",
    "\t+  \\Gamma_\\downarrow \\mathcal{L}[\\sigma^-_i])\\text{.}\n",
    "$$\n",
    "As indicated, it is the pump strength $\\Gamma_\\uparrow$ that will be varied to generate the different lines of **Fig. 2a.** All other parameters are defined in the following code box.\n",
    "\n",
    "\n",
    "**\\***N.B. for calculating the dynamics only the detuning $\\omega_c-\\omega_0$ is relevant, so we set $\\omega_0=0$ for conveninence."
   ]
  },
  {
   "cell_type": "code",
   "execution_count": 1,
   "metadata": {},
   "outputs": [],
   "source": [
    "alpha = 0.25\n",
    "nu_c = 0.15\n",
    "T = 0.026\n",
    "omega_0 = 0\n",
    "omega_c = -0.02\n",
    "Omega = 0.2\n",
    "\n",
    "kappa = 0.01\n",
    "Gamma_down = 0.01"
   ]
  },
  {
   "cell_type": "markdown",
   "metadata": {},
   "source": [
    "### 2. System Hamiltonian and field equation of motion after the mean-field reduction"
   ]
  },
  {
   "cell_type": "markdown",
   "metadata": {},
   "source": [
    "The mean-field approach is based on the product-state ansatz\n",
    "$$\n",
    "\\rho = \\rho_a \\otimes \\bigotimes_{i=1}^N \\rho_i\n",
    "$$ \n",
    "where $\\rho_a= \\text{Tr}_{\\otimes{i}}\\rho$ is obtained from the partial trace taken over the Hilbert space of all two-level systems and $ \\rho_i = \\text{Tr}_{a, \\otimes{j\\neq i}} \\rho$ from the partial trace over all but the photonic degree of freedom. As detailed in the Supplemental Material of the Letter, after rescaling the field $\\langle a \\rangle \\to \\langle a \\rangle/\\sqrt{N}$ ($\\langle a \\rangle$ scales with $\\sqrt{N}$ in the lasing phase), the dynamics are controlled by the mean-field Hamiltonian $H_{\\text{MF}}$ for a *single molecule,*\n",
    "$$\n",
    "\tH_\\text{MF} = \n",
    " \\frac{\\omega_0}{2}\\sigma^z+\n",
    "\t\\frac{\\Omega}{2}\\left( \\langle a \\rangle \\sigma^+ +\n",
    "\t\\langle a \\rangle^{*}\\sigma^- \\right)\\text{,}\n",
    "$$\n",
    "together with the equation of motion for the field $\\langle a \\rangle$,\n",
    "$$\n",
    "\\partial_t \\langle a \\rangle = \n",
    "\t- (i\\omega_c+\\kappa)\\langle a \\rangle- i \\frac{\\Omega}{2}\\langle\\sigma^-\\rangle.\n",
    "$$\n",
    "To encode this information, and hence compute the dynamics, we use a `TimedependentSystemWithField` object. In the following we use $\\rho$ (no subscript) to denote the density operator of a a single two-level system (rather than the total many-body operator), since this forms the system in our TEMPO simulations."
   ]
  },
  {
   "cell_type": "markdown",
   "metadata": {},
   "source": [
    "### 3. Create time dependent system with field object\n",
    "The `TimedependentSystemWithField` object requires two physical inputs: a Hamiltonian, which is a function of time $t$ and field value $\\langle a \\rangle$ (in that order), and a equation of motion for the field, which is a function of time $t$, two-level system state $\\rho$ and field value $\\langle a \\rangle$. Note here $\\rho$ is provided as a $2\\times2$ matrix, hence to compute the expectation $\\langle \\sigma^- \\rangle$ we must multiple $\\rho$ by $\\sigma^-$ and take the trace:"
   ]
  },
  {
   "cell_type": "code",
   "execution_count": 7,
   "metadata": {},
   "outputs": [],
   "source": [
    "def H_MF(t, a):\n",
    "    return 0.5 * omega_0 * sigmaz +\\\n",
    "        0.5 * Omega * (a * sigma_plus + np.conj(a) * sigma_minus)\n",
    "def field_eom(t, state, a):\n",
    "    expec_val = np.matmul(sigma_minus, state).trace().real\n",
    "    return -(1j * omega_c + kappa) * a - 0.5j * Omega * expect_val\n",
    "    \n",
    "\n",
    "system = oqupy.TimeDependentSystem(hamiltonian_t)\n"
   ]
  },
  {
   "cell_type": "markdown",
   "metadata": {},
   "source": [
    "In addition, we need to specify Lindland operators for the pumping and dissipation processes. For now we will use a pumping $\\Gamma_\\uparrow = 0.8 \\Gamma_\\downarrow$, but in the PT-TEMPO computation below this will be varied."
   ]
  },
  {
   "cell_type": "code",
   "execution_count": null,
   "metadata": {},
   "outputs": [],
   "source": [
    "Gamma_up = 0.8 * Gamma_down\n",
    "gammas = [ lambda t: Gamma_down, lambda t: Gamma_up]\n",
    "lindblads = [ lambda t: sigma_minus, lambda t: sigma_plus]"
   ]
  },
  {
   "cell_type": "markdown",
   "metadata": {},
   "source": [
    "Note the rates and linblad operators must be callables taking a single argument---time---even though in our example there is no time-dependence (there is no `SystemWithField` class). Including the above, the system is then constructed with"
   ]
  },
  {
   "cell_type": "code",
   "execution_count": null,
   "metadata": {},
   "outputs": [],
   "source": [
    "system = oqupy.TimeDependentSystemWithField(\n",
    "        H_MF,\n",
    "        field_eom,\n",
    "        gammas=gammas,\n",
    "        lindblad_operators=lindblads)"
   ]
  },
  {
   "cell_type": "markdown",
   "metadata": {},
   "source": [
    "Correlations and a Bath object are created in the same way as in any other TEMPO computation (see preeceding tutorials):"
   ]
  },
  {
   "cell_type": "code",
   "execution_count": null,
   "metadata": {},
   "outputs": [],
   "source": [
    "correlations = oqupy.PowerLawSD(alpha=alpha,\n",
    "                                zeta=1,\n",
    "                                cutoff=nu_c,\n",
    "                                cutoff_type='gaussian',\n",
    "                                temperature=temperature)\n",
    "bath = oqupy.Bath(0.5 * sigma_z, correlations)"
   ]
  },
  {
   "cell_type": "markdown",
   "metadata": {},
   "source": [
    "### 4. TEMPO computation"
   ]
  },
  {
   "cell_type": "markdown",
   "metadata": {},
   "source": [
    "For our simulations we use the same initial conditions for the system and state used in the Letter:"
   ]
  },
  {
   "cell_type": "code",
   "execution_count": null,
   "metadata": {},
   "outputs": [],
   "source": [
    "initial_field = np.sqrt(0.05) # Note n_0 = <a^dagger a>(0) = 0.05\n",
    "initial_state = np.array([[0,0],[0,1]]) # spin down"
   ]
  },
  {
   "cell_type": "markdown",
   "metadata": {},
   "source": [
    "as well as the computational parameters:"
   ]
  },
  {
   "cell_type": "code",
   "execution_count": 8,
   "metadata": {},
   "outputs": [
    {
     "name": "stdout",
     "output_type": "stream",
     "text": [
      "100.0%   50 of   50 [########################################] 00:00:01\n",
      "Elapsed time: 1.4s\n"
     ]
    }
   ],
   "source": [
    "tempo_parameters = oqupy.TempoParameters(dt=0.6, dkmax=250, epsrel=10**(-4))\n",
    "start_time = 0.0\n",
    "end_time = 1000.0"
   ]
  },
  {
   "cell_type": "markdown",
   "metadata": {},
   "source": [
    "where for the sake of reducing the computation time the precision was lowered and the simulation time halved relative to the Letter. The only sutblty here is that the units of time are those with $\\hbar=1$; you can check $t=1000$ corresponds to $t=4$ ps in SI units.\n",
    "`oqupy.TempoWithField` and the `.compute` method may then be used to compute the dynamics in exactly the same way a call to `oqupy.Tempo` is used to compute the dynamics for an ordinary `System` or `TimeDependentSystem`:"
   ]
  },
  {
   "cell_type": "code",
   "execution_count": null,
   "metadata": {},
   "outputs": [],
   "source": [
    "tempo_sys = oqupy.Tempo(system=system,\n",
    "                        bath=bath,\n",
    "                        initial_state=initial_state,\n",
    "                        start_time=start_time,\n",
    "                        parameters=tempo_parameters)\n",
    "dynamics_with_field = tempo_sys.compute(end_time=end_time)"
   ]
  },
  {
   "cell_type": "markdown",
   "metadata": {},
   "source": [
    "Note `dynamics_with_field` contains both the timesteps and state matrices at each timestel, plus the corresponding field values. We plot the latter below which describes (part of) a single curve from **Fig. 2.**"
   ]
  },
  {
   "cell_type": "code",
   "execution_count": 9,
   "metadata": {},
   "outputs": [
    {
     "data": {
      "text/plain": [
       "<matplotlib.legend.Legend at 0x7f530c8b5f28>"
      ]
     },
     "execution_count": 9,
     "metadata": {},
     "output_type": "execute_result"
    },
    {
     "data": {
      "image/png": "[encoded data removed]",
      "text/plain": [
       "<Figure size 432x288 with 1 Axes>"
      ]
     },
     "metadata": {
      "needs_background": "light"
     },
     "output_type": "display_data"
    }
   ],
   "source": [
    "t, s_x = dynamics.expectations(sigma_x, real=True)\n",
    "t, s_y = dynamics.expectations(sigma_y, real=True)\n",
    "s_xy = np.sqrt(s_x**2 + s_y**2)\n",
    "plt.plot(t, s_xy, label=r'$\\Delta = 0.0$')\n",
    "plt.xlabel(r'$t\\,\\Omega$')\n",
    "plt.ylabel(r'$<\\sigma_xy>$')\n",
    "plt.ylim((0.0,1.0))\n",
    "plt.legend(loc=4)"
   ]
  },
  {
   "cell_type": "markdown",
   "metadata": {},
   "source": [
    "### 5. Using PT-TEMPO to explore many different laser pulses\n",
    "If we want to do the same computation for a set of different laser pulses (and thus different time dependent system Hamiltonians), we could repeate the above procedure. However, for a large number of different system Hamiltonians this is impractical. In such cases one may instead use the process tensor approach (PT-TEMPO) wherein the bath influence tensors are computed separately from the rest of the network. This produces an object known as the process tensor which may then be used with many different system Hamiltonians at relatively little cost."
   ]
  },
  {
   "cell_type": "code",
   "execution_count": 10,
   "metadata": {},
   "outputs": [
    {
     "name": "stdout",
     "output_type": "stream",
     "text": [
      "100.0%   50 of   50 [########################################] 00:00:01\n",
      "Elapsed time: 1.3s\n"
     ]
    }
   ],
   "source": [
    "tempo_parameters = oqupy.TempoParameters(dt=0.1, dkmax=20, epsrel=10**(-4))\n",
    "\n",
    "process_tensor = oqupy.pt_tempo_compute(bath=bath,\n",
    "                                        start_time=-2.0,\n",
    "                                        end_time=3.0,\n",
    "                                        parameters=tempo_parameters)"
   ]
  },
  {
   "cell_type": "markdown",
   "metadata": {},
   "source": [
    "Given we want to calculate $\\langle\\sigma_{xy}\\rangle(t)$ for 5 different laser pulse detunings, we define a seperate system object for each laser pulse:"
   ]
  },
  {
   "cell_type": "code",
   "execution_count": 11,
   "metadata": {},
   "outputs": [],
   "source": [
    "deltas = [-10.0, -5.0, 0.0, 5.0, 10.0]\n",
    "systems = []\n",
    "for delta in deltas:\n",
    "    # NOTE: omitting \"delta=delta\" in the parameter definition below\n",
    "    #       would lead to all systems having the same detuning.\n",
    "    #       This is a common python pitfall. Check out \n",
    "    #       https://docs.python-guide.org/writing/gotchas/#late-binding-closures\n",
    "    #       for more information on this.\n",
    "    def hamiltonian_t(t, delta=delta): \n",
    "        return delta/2.0 * sigma_z \\\n",
    "            + gaussian_shape(t, area = np.pi/2.0, tau = 0.245)/2.0 * sigma_x \n",
    "    system = oqupy.TimeDependentSystem(hamiltonian_t)\n",
    "    systems.append(system)"
   ]
  },
  {
   "cell_type": "markdown",
   "metadata": {},
   "source": [
    "We can then use the process tensor to compute the dynamics for each laser pulse"
   ]
  },
  {
   "cell_type": "code",
   "execution_count": 12,
   "metadata": {},
   "outputs": [
    {
     "name": "stdout",
     "output_type": "stream",
     "text": [
      "..... done.\n"
     ]
    }
   ],
   "source": [
    "s_xy_list = []\n",
    "t_list = []\n",
    "for system in systems:\n",
    "    dynamics = oqupy.compute_dynamics(\n",
    "        process_tensor=process_tensor,\n",
    "        system=system,\n",
    "        initial_state=initial_state,\n",
    "        start_time=-2.0)\n",
    "    t, s_x = dynamics.expectations(sigma_x, real=True)\n",
    "    _, s_y = dynamics.expectations(sigma_y, real=True)\n",
    "    s_xy = np.sqrt(s_x**2 + s_y**2)\n",
    "    s_xy_list.append(s_xy)\n",
    "    t_list.append(t)\n",
    "    print(\".\", end=\"\", flush=True)\n",
    "print(\" done.\", flush=True)"
   ]
  },
  {
   "cell_type": "markdown",
   "metadata": {},
   "source": [
    "and plot $\\langle\\sigma_{xy}\\rangle(t)$ for each:"
   ]
  },
  {
   "cell_type": "code",
   "execution_count": 13,
   "metadata": {},
   "outputs": [
    {
     "data": {
      "text/plain": [
       "<matplotlib.legend.Legend at 0x7f530c7e8588>"
      ]
     },
     "execution_count": 13,
     "metadata": {},
     "output_type": "execute_result"
    },
    {
     "data": {
      "image/png": "[encoded data removed]",
      "text/plain": [
       "<Figure size 432x288 with 1 Axes>"
      ]
     },
     "metadata": {
      "needs_background": "light"
     },
     "output_type": "display_data"
    }
   ],
   "source": [
    "for t, s_xy, delta in zip(t_list, s_xy_list, deltas):\n",
    "    plt.plot(t, s_xy, label=r\"$\\Delta = $\"+f\"{delta:0.1f}\")\n",
    "    plt.xlabel(r'$t/$ps')\n",
    "    plt.ylabel(r'$<\\sigma_xy>$')\n",
    "plt.ylim((0.0,1.0))\n",
    "plt.legend()"
   ]
  },
  {
   "cell_type": "code",
   "execution_count": null,
   "metadata": {},
   "outputs": [],
   "source": []
  }
 ],
 "metadata": {
  "interpreter": {
   "hash": "3306e98808c0871e8a1685f50cc307ae5b4a4a013844b10634a4efe89132c3fe"
  },
  "kernelspec": {
   "display_name": "Python 3 (ipykernel)",
   "language": "python",
   "name": "python3"
  },
  "language_info": {
   "codemirror_mode": {
    "name": "ipython",
    "version": 3
   },
   "file_extension": ".py",
   "mimetype": "text/x-python",
   "name": "python",
   "nbconvert_exporter": "python",
   "pygments_lexer": "ipython3",
   "version": "3.10.4"
  },
  "widgets": {
   "application/vnd.jupyter.widget-state+json": {
    "state": {},
    "version_major": 1,
    "version_minor": 0
   }
  }
 },
 "nbformat": 4,
 "nbformat_minor": 2
}
